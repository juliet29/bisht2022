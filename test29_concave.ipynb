{
 "cells": [
  {
   "cell_type": "code",
   "execution_count": 1,
   "metadata": {},
   "outputs": [],
   "source": [
    "from helpers import *\n",
    "\n",
    "from shapely import ops\n",
    "from graph_checks import *\n",
    "\n",
    "from convex_boundary import *"
   ]
  },
  {
   "cell_type": "code",
   "execution_count": 2,
   "metadata": {},
   "outputs": [],
   "source": [
    "from simple_four_con import graph_data"
   ]
  },
  {
   "cell_type": "code",
   "execution_count": 3,
   "metadata": {},
   "outputs": [
    {
     "data": {
      "text/plain": [
       "NodeView((0, 1, 2, 3, 4, 5, 6, 7))"
      ]
     },
     "execution_count": 3,
     "metadata": {},
     "output_type": "execute_result"
    }
   ],
   "source": [
    "graph_data.G.nodes"
   ]
  },
  {
   "cell_type": "code",
   "execution_count": 36,
   "metadata": {},
   "outputs": [
    {
     "data": {
      "text/plain": [
       "NodeView((0, 1, 3, 4, 5, 6, 7))"
      ]
     },
     "execution_count": 36,
     "metadata": {},
     "output_type": "execute_result"
    }
   ],
   "source": [
    "G = copy.deepcopy(graph_data.G)\n",
    "embed = graph_data.embed\n",
    "\n",
    "G.remove_nodes_from([2])\n",
    "G.nodes"
   ]
  },
  {
   "cell_type": "code",
   "execution_count": 14,
   "metadata": {},
   "outputs": [],
   "source": [
    "check_triangulated_interior(G)"
   ]
  },
  {
   "cell_type": "code",
   "execution_count": 39,
   "metadata": {},
   "outputs": [
    {
     "data": {
      "text/plain": [
       "[0, 1, 3, 4, 6]"
      ]
     },
     "execution_count": 39,
     "metadata": {},
     "output_type": "execute_result"
    }
   ],
   "source": [
    "cb = ConvexBoundary(GraphData(G, embed))\n",
    "cb.run()\n",
    "cb.ext_nodes"
   ]
  },
  {
   "cell_type": "code",
   "execution_count": 32,
   "metadata": {},
   "outputs": [],
   "source": [
    "\n",
    "\n"
   ]
  },
  {
   "cell_type": "code",
   "execution_count": 41,
   "metadata": {},
   "outputs": [
    {
     "name": "stderr",
     "output_type": "stream",
     "text": [
      "ic| n: 3\n",
      "ic| c: [0, 1, 3, 4, 6]\n"
     ]
    },
    {
     "data": {
      "text/plain": [
       "[[0, 1, 7, 5, 6],\n",
       " [0, 1, 3, 4, 6],\n",
       " [0, 1, 3, 5, 6],\n",
       " [0, 1, 3, 5, 7],\n",
       " [0, 1, 5, 4, 6],\n",
       " [0, 1, 5, 6, 7],\n",
       " [0, 1, 5, 7, 6],\n",
       " [0, 7, 1, 5, 6],\n",
       " [0, 7, 5, 4, 6],\n",
       " [1, 7, 5, 4, 3],\n",
       " [1, 7, 6, 4, 3],\n",
       " [1, 7, 6, 4, 5],\n",
       " [1, 7, 6, 5, 3],\n",
       " [1, 3, 4, 6, 5],\n",
       " [7, 5, 3, 4, 6]]"
      ]
     },
     "execution_count": 41,
     "metadata": {},
     "output_type": "execute_result"
    }
   ],
   "source": [
    "cycles = [g for g in nx.simple_cycles(cb.G_ext._graph) if len(g) == len(cb.ext_nodes)]\n",
    "\n",
    "assert len(cycles) > 1, \"No cycles found with the correct length\"\n",
    "\n",
    "true_cycle  = None\n",
    "for c in cycles:\n",
    "    if check_ext_nodes_in_cycle(c):\n",
    "        true_cycle = c\n",
    "        ic(c)\n",
    "        break\n",
    "assert true_cycle, \"True cycle was not found\"\n",
    "\n",
    "# cycles = [g for g in nx.simple_cycles(cb.G_ext._graph) if g == cb.ext_nodes]\n",
    "\n",
    "cycles"
   ]
  },
  {
   "cell_type": "code",
   "execution_count": 7,
   "metadata": {},
   "outputs": [
    {
     "data": {
      "text/plain": [
       "[0, 7, 5, 3, 4, 6]"
      ]
     },
     "execution_count": 7,
     "metadata": {},
     "output_type": "execute_result"
    }
   ],
   "source": [
    "cb.cycle"
   ]
  },
  {
   "cell_type": "code",
   "execution_count": 42,
   "metadata": {},
   "outputs": [
    {
     "data": {
      "text/plain": [
       "<networkx.classes.graph.Graph at 0x134c940d0>"
      ]
     },
     "execution_count": 42,
     "metadata": {},
     "output_type": "execute_result"
    }
   ],
   "source": [
    "cb.G_ext._graph"
   ]
  },
  {
   "cell_type": "code",
   "execution_count": 46,
   "metadata": {},
   "outputs": [
    {
     "data": {
      "text/plain": [
       "[[7, 6, 0], [5, 4, 6], [5, 3, 4], [7, 5, 6]]"
      ]
     },
     "execution_count": 46,
     "metadata": {},
     "output_type": "execute_result"
    }
   ],
   "source": [
    "nx.cycle_basis(cb.G_ext._graph, 0)"
   ]
  },
  {
   "cell_type": "code",
   "execution_count": 45,
   "metadata": {},
   "outputs": [
    {
     "data": {
      "text/plain": [
       "[(5, 4), (4, 3), (3, 5)]"
      ]
     },
     "execution_count": 45,
     "metadata": {},
     "output_type": "execute_result"
    }
   ],
   "source": [
    "nx.find_cycle(cb.G_ext._graph)"
   ]
  },
  {
   "cell_type": "code",
   "execution_count": 47,
   "metadata": {},
   "outputs": [
    {
     "data": {
      "text/plain": [
       "[[0, 7, 5, 3, 4, 6]]"
      ]
     },
     "execution_count": 47,
     "metadata": {},
     "output_type": "execute_result"
    }
   ],
   "source": [
    "cycle = [g for g in nx.simple_cycles(cb.G_ext._graph) if len(g) == len(cb.ext_nodes)]"
   ]
  },
  {
   "cell_type": "code",
   "execution_count": null,
   "metadata": {},
   "outputs": [],
   "source": []
  },
  {
   "cell_type": "code",
   "execution_count": 33,
   "metadata": {},
   "outputs": [
    {
     "data": {
      "text/plain": [
       "6"
      ]
     },
     "execution_count": 33,
     "metadata": {},
     "output_type": "execute_result"
    }
   ],
   "source": [
    "len(cb.ext_nodes)"
   ]
  },
  {
   "cell_type": "code",
   "execution_count": 32,
   "metadata": {},
   "outputs": [
    {
     "data": {
      "text/plain": [
       "<networkx.classes.graph.Graph at 0x134c94340>"
      ]
     },
     "execution_count": 32,
     "metadata": {},
     "output_type": "execute_result"
    }
   ],
   "source": [
    "cb.G_ext"
   ]
  },
  {
   "cell_type": "code",
   "execution_count": 8,
   "metadata": {},
   "outputs": [
    {
     "data": {
      "text/plain": [
       "[5, 4, 3]"
      ]
     },
     "execution_count": 8,
     "metadata": {},
     "output_type": "execute_result"
    }
   ],
   "source": [
    "cb.cycle"
   ]
  },
  {
   "cell_type": "code",
   "execution_count": null,
   "metadata": {},
   "outputs": [],
   "source": []
  },
  {
   "cell_type": "code",
   "execution_count": 9,
   "metadata": {},
   "outputs": [
    {
     "data": {
      "text/plain": [
       "[0, 3, 4, 5, 6, 7]"
      ]
     },
     "execution_count": 9,
     "metadata": {},
     "output_type": "execute_result"
    }
   ],
   "source": [
    "cb.ext_nodes"
   ]
  },
  {
   "cell_type": "code",
   "execution_count": 10,
   "metadata": {},
   "outputs": [
    {
     "data": {
      "image/svg+xml": [
       "<svg xmlns=\"http://www.w3.org/2000/svg\" xmlns:xlink=\"http://www.w3.org/1999/xlink\" width=\"100.0\" height=\"100.0\" viewBox=\"-3.36 -4.36 9.72 8.72\" preserveAspectRatio=\"xMinYMin meet\"><g transform=\"matrix(1,0,0,-1,0,0.0)\"><path fill-rule=\"evenodd\" fill=\"#66cc99\" stroke=\"#555555\" stroke-width=\"0.19440000000000002\" opacity=\"0.6\" d=\"M 3.0,0.0 L 3.0,4.0 L 6.0,2.0 L 0.0,-4.0 L -3.0,0.0 L 0.0,0.0 L 3.0,0.0 z\" /></g></svg>"
      ],
      "text/plain": [
       "<POLYGON ((3 0, 3 4, 6 2, 0 -4, -3 0, 0 0, 3 0))>"
      ]
     },
     "execution_count": 10,
     "metadata": {},
     "output_type": "execute_result"
    }
   ],
   "source": [
    "inner_faces = {}\n",
    "for ix, c in enumerate(nx.simple_cycles(G=G, length_bound=3)):\n",
    "    inner_faces[ix] = {\n",
    "        \"cycle\": c,\n",
    "        \"shape\": sp.LinearRing(get_emedding_coords(embed, c)),\n",
    "    }\n",
    "\n",
    "complete_faces = sp.MultiPolygon(\n",
    "            [sp.Polygon(i[\"shape\"]) for i in inner_faces.values()]\n",
    "        )\n",
    "boundary_line_string = sp.Polygon(sp.unary_union(complete_faces).boundary)\n",
    "boundary_line_string"
   ]
  },
  {
   "cell_type": "code",
   "execution_count": 11,
   "metadata": {},
   "outputs": [],
   "source": [
    "points = sp.MultiPoint([sp.Point(i) for i in get_emedding_coords(embed, G.nodes)])\n",
    "points_list = [g for g in points.geoms]"
   ]
  },
  {
   "cell_type": "code",
   "execution_count": 12,
   "metadata": {},
   "outputs": [
    {
     "data": {
      "text/plain": [
       "[<POINT (-3 0)>,\n",
       " <POINT (3 4)>,\n",
       " <POINT (6 2)>,\n",
       " <POINT (3 0)>,\n",
       " <POINT (0 -4)>,\n",
       " <POINT (0 0)>]"
      ]
     },
     "execution_count": 12,
     "metadata": {},
     "output_type": "execute_result"
    }
   ],
   "source": [
    "points_list"
   ]
  },
  {
   "cell_type": "code",
   "execution_count": 13,
   "metadata": {},
   "outputs": [
    {
     "data": {
      "text/plain": [
       "7"
      ]
     },
     "execution_count": 13,
     "metadata": {},
     "output_type": "execute_result"
    }
   ],
   "source": [
    "list(G.nodes)[-1]"
   ]
  },
  {
   "cell_type": "code",
   "execution_count": 14,
   "metadata": {},
   "outputs": [],
   "source": [
    "ext_nodes = []\n",
    "for node_index, point in zip(G.nodes, points_list):\n",
    "    if not boundary_line_string.contains(point):\n",
    "        # check_node_point_match()\n",
    "        ext_nodes.append(node_index)\n",
    "        "
   ]
  },
  {
   "cell_type": "code",
   "execution_count": 15,
   "metadata": {},
   "outputs": [
    {
     "data": {
      "text/plain": [
       "NodeView((0, 3, 4, 5, 6, 7))"
      ]
     },
     "execution_count": 15,
     "metadata": {},
     "output_type": "execute_result"
    }
   ],
   "source": [
    "G.nodes"
   ]
  },
  {
   "cell_type": "code",
   "execution_count": 16,
   "metadata": {},
   "outputs": [
    {
     "data": {
      "text/plain": [
       "NodeView((0, 3, 4, 5, 6, 7))"
      ]
     },
     "execution_count": 16,
     "metadata": {},
     "output_type": "execute_result"
    }
   ],
   "source": [
    "cb.G.nodes"
   ]
  },
  {
   "cell_type": "code",
   "execution_count": 17,
   "metadata": {},
   "outputs": [
    {
     "data": {
      "text/plain": [
       "[<POINT (-3 0)>,\n",
       " <POINT (3 4)>,\n",
       " <POINT (6 2)>,\n",
       " <POINT (3 0)>,\n",
       " <POINT (0 -4)>,\n",
       " <POINT (0 0)>]"
      ]
     },
     "execution_count": 17,
     "metadata": {},
     "output_type": "execute_result"
    }
   ],
   "source": [
    "cb.points_list"
   ]
  },
  {
   "cell_type": "code",
   "execution_count": 18,
   "metadata": {},
   "outputs": [
    {
     "data": {
      "image/svg+xml": [
       "<svg xmlns=\"http://www.w3.org/2000/svg\" xmlns:xlink=\"http://www.w3.org/1999/xlink\" width=\"100.0\" height=\"100.0\" viewBox=\"-3.36 -4.36 9.72 8.72\" preserveAspectRatio=\"xMinYMin meet\"><g transform=\"matrix(1,0,0,-1,0,0.0)\"><path fill-rule=\"evenodd\" fill=\"#66cc99\" stroke=\"#555555\" stroke-width=\"0.19440000000000002\" opacity=\"0.6\" d=\"M 3.0,0.0 L 3.0,4.0 L 6.0,2.0 L 0.0,-4.0 L -3.0,0.0 L 0.0,0.0 L 3.0,0.0 z\" /></g></svg>"
      ],
      "text/plain": [
       "<POLYGON ((3 0, 3 4, 6 2, 0 -4, -3 0, 0 0, 3 0))>"
      ]
     },
     "execution_count": 18,
     "metadata": {},
     "output_type": "execute_result"
    }
   ],
   "source": [
    "cb.boundary_shape"
   ]
  },
  {
   "cell_type": "code",
   "execution_count": 19,
   "metadata": {},
   "outputs": [
    {
     "data": {
      "text/plain": [
       "[0, 3, 4, 5, 6, 7]"
      ]
     },
     "execution_count": 19,
     "metadata": {},
     "output_type": "execute_result"
    }
   ],
   "source": [
    "ext_nodes"
   ]
  },
  {
   "cell_type": "code",
   "execution_count": 20,
   "metadata": {},
   "outputs": [
    {
     "data": {
      "image/svg+xml": [
       "<svg xmlns=\"http://www.w3.org/2000/svg\" xmlns:xlink=\"http://www.w3.org/1999/xlink\" width=\"100.0\" height=\"100.0\" viewBox=\"-3.36 -4.36 9.72 8.72\" preserveAspectRatio=\"xMinYMin meet\"><g transform=\"matrix(1,0,0,-1,0,0.0)\"><path fill-rule=\"evenodd\" fill=\"#66cc99\" stroke=\"#555555\" stroke-width=\"0.19440000000000002\" opacity=\"0.6\" d=\"M 3.0,0.0 L 3.0,4.0 L 6.0,2.0 L 0.0,-4.0 L -3.0,0.0 L 0.0,0.0 L 3.0,0.0 z\" /></g></svg>"
      ],
      "text/plain": [
       "<POLYGON ((3 0, 3 4, 6 2, 0 -4, -3 0, 0 0, 3 0))>"
      ]
     },
     "execution_count": 20,
     "metadata": {},
     "output_type": "execute_result"
    }
   ],
   "source": [
    "boundary_line_string"
   ]
  },
  {
   "cell_type": "code",
   "execution_count": 21,
   "metadata": {},
   "outputs": [
    {
     "data": {
      "text/plain": [
       "[(5, 4), (4, 3), (3, 5)]"
      ]
     },
     "execution_count": 21,
     "metadata": {},
     "output_type": "execute_result"
    }
   ],
   "source": [
    "nx.find_cycle(G, 0)"
   ]
  },
  {
   "cell_type": "code",
   "execution_count": 22,
   "metadata": {},
   "outputs": [],
   "source": [
    "points = sp.MultiPoint([sp.Point(i) for i in get_emedding_coords(embed, G.nodes)])\n",
    "points_list = [g for g in points.geoms]"
   ]
  },
  {
   "cell_type": "code",
   "execution_count": null,
   "metadata": {},
   "outputs": [],
   "source": [
    "\n"
   ]
  },
  {
   "cell_type": "code",
   "execution_count": null,
   "metadata": {},
   "outputs": [],
   "source": []
  },
  {
   "cell_type": "code",
   "execution_count": 23,
   "metadata": {},
   "outputs": [],
   "source": [
    "sp_edges = []\n",
    "centers = []\n",
    "around =  []\n",
    "for e in G.edges:\n",
    "    line = sp.LineString(get_emedding_coords_as_tuple(embed, (e)))\n",
    "    sp_edges.append(line)\n",
    "    centers.append(line.centroid)\n",
    "    group = [line.coords[0], line.centroid.coords[0], line.coords[1]]\n",
    "    around.extend(group)\n"
   ]
  },
  {
   "cell_type": "code",
   "execution_count": 24,
   "metadata": {},
   "outputs": [
    {
     "data": {
      "image/svg+xml": [
       "<svg xmlns=\"http://www.w3.org/2000/svg\" xmlns:xlink=\"http://www.w3.org/1999/xlink\" width=\"100.0\" height=\"100.0\" viewBox=\"-3.36 -4.36 9.72 8.72\" preserveAspectRatio=\"xMinYMin meet\"><g transform=\"matrix(1,0,0,-1,0,0.0)\"><g><polyline fill=\"none\" stroke=\"#66cc99\" stroke-width=\"0.19440000000000002\" points=\"6.0,2.0 0.0,-4.0\" opacity=\"0.8\" /><polyline fill=\"none\" stroke=\"#66cc99\" stroke-width=\"0.19440000000000002\" points=\"3.0,0.0 0.0,-4.0\" opacity=\"0.8\" /><polyline fill=\"none\" stroke=\"#66cc99\" stroke-width=\"0.19440000000000002\" points=\"0.0,-4.0 0.0,0.0\" opacity=\"0.8\" /><polyline fill=\"none\" stroke=\"#66cc99\" stroke-width=\"0.19440000000000002\" points=\"0.0,-4.0 -3.0,0.0 0.0,0.0\" opacity=\"0.8\" /><polyline fill=\"none\" stroke=\"#66cc99\" stroke-width=\"0.19440000000000002\" points=\"3.0,0.0 0.0,0.0\" opacity=\"0.8\" /><polyline fill=\"none\" stroke=\"#66cc99\" stroke-width=\"0.19440000000000002\" points=\"6.0,2.0 3.0,0.0\" opacity=\"0.8\" /><polyline fill=\"none\" stroke=\"#66cc99\" stroke-width=\"0.19440000000000002\" points=\"3.0,0.0 3.0,4.0 6.0,2.0\" opacity=\"0.8\" /></g></g></svg>"
      ],
      "text/plain": [
       "<MULTILINESTRING ((6 2, 0 -4), (3 0, 0 -4), (0 -4, 0 0), (0 -4, -3 0, 0 0), ...>"
      ]
     },
     "execution_count": 24,
     "metadata": {},
     "output_type": "execute_result"
    }
   ],
   "source": [
    "merged_line = ops.linemerge(sp.MultiLineString(sp_edges))\n",
    "merged_line"
   ]
  },
  {
   "cell_type": "code",
   "execution_count": 25,
   "metadata": {},
   "outputs": [
    {
     "data": {
      "image/svg+xml": [
       "<svg xmlns=\"http://www.w3.org/2000/svg\" xmlns:xlink=\"http://www.w3.org/1999/xlink\" width=\"100.0\" height=\"100.0\" viewBox=\"-3.36 -4.36 9.72 8.72\" preserveAspectRatio=\"xMinYMin meet\"><g transform=\"matrix(1,0,0,-1,0,0.0)\"><path fill-rule=\"evenodd\" fill=\"#66cc99\" stroke=\"#555555\" stroke-width=\"0.19440000000000002\" opacity=\"0.6\" d=\"M 0.0,-4.0 L -3.0,0.0 L 3.0,4.0 L 6.0,2.0 L 0.0,-4.0 z\" /></g></svg>"
      ],
      "text/plain": [
       "<POLYGON ((0 -4, -3 0, 3 4, 6 2, 0 -4))>"
      ]
     },
     "execution_count": 25,
     "metadata": {},
     "output_type": "execute_result"
    }
   ],
   "source": [
    "boundary_shape = sp.Polygon(points.convex_hull.boundary)\n",
    "boundary_shape"
   ]
  },
  {
   "cell_type": "code",
   "execution_count": 26,
   "metadata": {},
   "outputs": [
    {
     "data": {
      "image/svg+xml": [
       "<svg xmlns=\"http://www.w3.org/2000/svg\" xmlns:xlink=\"http://www.w3.org/1999/xlink\" width=\"100.0\" height=\"100.0\" viewBox=\"-3.36 -4.36 9.72 8.72\" preserveAspectRatio=\"xMinYMin meet\"><g transform=\"matrix(1,0,0,-1,0,0.0)\"><path fill-rule=\"evenodd\" fill=\"#66cc99\" stroke=\"#555555\" stroke-width=\"0.19440000000000002\" opacity=\"0.6\" d=\"M -3.0,0.0 L 3.0,4.0 L 6.0,2.0 L 3.0,0.0 L 0.0,-4.0 L 0.0,0.0 L -3.0,0.0 z\" /></g></svg>"
      ],
      "text/plain": [
       "<POLYGON ((-3 0, 3 4, 6 2, 3 0, 0 -4, 0 0, -3 0))>"
      ]
     },
     "execution_count": 26,
     "metadata": {},
     "output_type": "execute_result"
    }
   ],
   "source": [
    "fitted_boundary_shape = sp.Polygon(points_list)\n",
    "fitted_boundary_shape"
   ]
  },
  {
   "cell_type": "code",
   "execution_count": 27,
   "metadata": {},
   "outputs": [
    {
     "data": {
      "image/svg+xml": [
       "<svg xmlns=\"http://www.w3.org/2000/svg\" xmlns:xlink=\"http://www.w3.org/1999/xlink\" width=\"100.0\" height=\"100.0\" viewBox=\"-3.36 -4.36 9.72 8.72\" preserveAspectRatio=\"xMinYMin meet\"><g transform=\"matrix(1,0,0,-1,0,0.0)\"><path fill-rule=\"evenodd\" fill=\"#ff3333\" stroke=\"#555555\" stroke-width=\"0.19440000000000002\" opacity=\"0.6\" d=\"M -3.0,0.0 L 3.0,4.0 L 6.0,2.0 L 3.0,0.0 L 0.0,-4.0 L 0.0,0.0 L -1.5,0.0 L -1.5,-2.0 L 4.5,3.0 L 3.0,2.0 L 4.5,1.0 L 3.0,-1.0 L 1.5,-2.0 L 1.5,0.0 L 0.0,-2.0 L -3.0,0.0 z\" /></g></svg>"
      ],
      "text/plain": [
       "<POLYGON ((-3 0, 3 4, 6 2, 3 0, 0 -4, 0 0, -1.5 0, -1.5 -2, 4.5 3, 3 2, 4.5 ...>"
      ]
     },
     "execution_count": 27,
     "metadata": {},
     "output_type": "execute_result"
    }
   ],
   "source": [
    "fitted_boundary_shape2 = sp.Polygon(points_list+centers)\n",
    "fitted_boundary_shape2"
   ]
  },
  {
   "cell_type": "code",
   "execution_count": 28,
   "metadata": {},
   "outputs": [
    {
     "data": {
      "image/svg+xml": [
       "<svg xmlns=\"http://www.w3.org/2000/svg\" xmlns:xlink=\"http://www.w3.org/1999/xlink\" width=\"100.0\" height=\"100.0\" viewBox=\"-3.36 -4.36 9.72 8.72\" preserveAspectRatio=\"xMinYMin meet\"><g transform=\"matrix(1,0,0,-1,0,0.0)\"><path fill-rule=\"evenodd\" fill=\"#ff3333\" stroke=\"#555555\" stroke-width=\"0.19440000000000002\" opacity=\"0.6\" d=\"M -3.0,0.0 L -1.5,0.0 L 0.0,0.0 L -3.0,0.0 L -1.5,-2.0 L 0.0,-4.0 L 3.0,4.0 L 4.5,3.0 L 6.0,2.0 L 3.0,4.0 L 3.0,2.0 L 3.0,0.0 L 6.0,2.0 L 4.5,1.0 L 3.0,0.0 L 6.0,2.0 L 3.0,-1.0 L 0.0,-4.0 L 3.0,0.0 L 1.5,-2.0 L 0.0,-4.0 L 3.0,0.0 L 1.5,0.0 L 0.0,0.0 L 0.0,-4.0 L 0.0,-2.0 L 0.0,0.0 L -3.0,0.0 z\" /></g></svg>"
      ],
      "text/plain": [
       "<POLYGON ((-3 0, -1.5 0, 0 0, -3 0, -1.5 -2, 0 -4, 3 4, 4.5 3, 6 2, 3 4, 3 2...>"
      ]
     },
     "execution_count": 28,
     "metadata": {},
     "output_type": "execute_result"
    }
   ],
   "source": [
    "ar = sp.Polygon(around)\n",
    "ar"
   ]
  },
  {
   "cell_type": "code",
   "execution_count": 29,
   "metadata": {},
   "outputs": [
    {
     "data": {
      "text/plain": [
       "[]"
      ]
     },
     "execution_count": 29,
     "metadata": {},
     "output_type": "execute_result"
    }
   ],
   "source": [
    "[p for p in ar.interiors]"
   ]
  },
  {
   "cell_type": "code",
   "execution_count": 30,
   "metadata": {},
   "outputs": [
    {
     "data": {
      "image/svg+xml": [
       "<svg xmlns=\"http://www.w3.org/2000/svg\" xmlns:xlink=\"http://www.w3.org/1999/xlink\" width=\"100.0\" height=\"100.0\" viewBox=\"-3.36 -4.36 9.72 8.72\" preserveAspectRatio=\"xMinYMin meet\"><g transform=\"matrix(1,0,0,-1,0,0.0)\"><g><circle cx=\"-3.0\" cy=\"0.0\" r=\"0.2916\" stroke=\"#555555\" stroke-width=\"0.09720000000000001\" fill=\"#66cc99\" opacity=\"0.6\" /><circle cx=\"3.0\" cy=\"4.0\" r=\"0.2916\" stroke=\"#555555\" stroke-width=\"0.09720000000000001\" fill=\"#66cc99\" opacity=\"0.6\" /><circle cx=\"6.0\" cy=\"2.0\" r=\"0.2916\" stroke=\"#555555\" stroke-width=\"0.09720000000000001\" fill=\"#66cc99\" opacity=\"0.6\" /><circle cx=\"3.0\" cy=\"0.0\" r=\"0.2916\" stroke=\"#555555\" stroke-width=\"0.09720000000000001\" fill=\"#66cc99\" opacity=\"0.6\" /><circle cx=\"0.0\" cy=\"-4.0\" r=\"0.2916\" stroke=\"#555555\" stroke-width=\"0.09720000000000001\" fill=\"#66cc99\" opacity=\"0.6\" /><circle cx=\"0.0\" cy=\"0.0\" r=\"0.2916\" stroke=\"#555555\" stroke-width=\"0.09720000000000001\" fill=\"#66cc99\" opacity=\"0.6\" /></g></g></svg>"
      ],
      "text/plain": [
       "<MULTIPOINT (-3 0, 3 4, 6 2, 3 0, 0 -4, 0 0)>"
      ]
     },
     "execution_count": 30,
     "metadata": {},
     "output_type": "execute_result"
    }
   ],
   "source": [
    "points"
   ]
  },
  {
   "cell_type": "code",
   "execution_count": 31,
   "metadata": {},
   "outputs": [],
   "source": [
    "# now find cycle that "
   ]
  }
 ],
 "metadata": {
  "kernelspec": {
   "display_name": "gqenv",
   "language": "python",
   "name": "python3"
  },
  "language_info": {
   "codemirror_mode": {
    "name": "ipython",
    "version": 3
   },
   "file_extension": ".py",
   "mimetype": "text/x-python",
   "name": "python",
   "nbconvert_exporter": "python",
   "pygments_lexer": "ipython3",
   "version": "3.9.15"
  }
 },
 "nbformat": 4,
 "nbformat_minor": 2
}
