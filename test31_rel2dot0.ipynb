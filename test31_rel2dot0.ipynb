{
 "cells": [
  {
   "cell_type": "code",
   "execution_count": 1,
   "metadata": {},
   "outputs": [],
   "source": [
    "from helpers import *\n",
    "\n",
    "from shapely import ops\n",
    "from graph_checks import *\n",
    "\n",
    "from convex_boundary import *\n",
    "from simple_four_con import graph_data\n",
    "\n",
    "from canonical_order_kant import *"
   ]
  },
  {
   "cell_type": "code",
   "execution_count": 2,
   "metadata": {},
   "outputs": [],
   "source": [
    "# co.ordered_nodes"
   ]
  },
  {
   "cell_type": "code",
   "execution_count": 3,
   "metadata": {},
   "outputs": [
    {
     "name": "stderr",
     "output_type": "stream",
     "text": [
      "ic| f\"updating chords for  {node_index} to {num_chords}\": 'updating chords for  7 to 1'\n",
      "ic| f\"updating chords for  {node_index} to {num_chords}\": 'updating chords for  5 to 2'\n",
      "ic| f\"updating chords for  {node_index} to {num_chords}\": 'updating chords for  5 to 1'\n",
      "ic| f\"{node_index} has no more chords\": '5 has no more chords'\n",
      "ic| f\"updating chords for  {node_index} to {num_chords}\": 'updating chords for  6 to 1'\n",
      "ic| f\"{node_index} has no more chords\": '6 has no more chords'\n",
      "ic| f\"{node_index} has no more chords\": '7 has no more chords'\n",
      "ic| f\"ISSUE WHEN FINDING UNMARKED CYCLE! for {self.vk}\": 'ISSUE WHEN FINDING UNMARKED CYCLE! for 2'\n",
      "ic| f\"completed order - vk == {self.vk}\": 'completed order - vk == 1'\n"
     ]
    }
   ],
   "source": [
    "co = KantCanonicalOrder(copy.deepcopy(graph_data))\n",
    "co.initialize_order()\n",
    "co.finish_order()"
   ]
  },
  {
   "cell_type": "code",
   "execution_count": 4,
   "metadata": {},
   "outputs": [
    {
     "name": "stdout",
     "output_type": "stream",
     "text": [
      "(\"Node 0: {'data': NodeCanonicalOrder({'index': 0, 'order': 1, 'mark': False, \"\n",
      " \"'visited': 4, 'chords': 0})}\")\n",
      "(\"Node 1: {'data': NodeCanonicalOrder({'index': 1, 'order': 6, 'mark': True, \"\n",
      " \"'visited': 2, 'chords': 0})}\")\n",
      "(\"Node 2: {'data': NodeCanonicalOrder({'index': 2, 'order': 7, 'mark': True, \"\n",
      " \"'visited': 2, 'chords': 0})}\")\n",
      "(\"Node 3: {'data': NodeCanonicalOrder({'index': 3, 'order': 5, 'mark': True, \"\n",
      " \"'visited': 3, 'chords': 0})}\")\n",
      "(\"Node 4: {'data': NodeCanonicalOrder({'index': 4, 'order': 4, 'mark': True, \"\n",
      " \"'visited': 3, 'chords': 0})}\")\n",
      "(\"Node 5: {'data': NodeCanonicalOrder({'index': 5, 'order': 3, 'mark': True, \"\n",
      " \"'visited': 4, 'chords': 0})}\")\n",
      "(\"Node 6: {'data': NodeCanonicalOrder({'index': 6, 'order': 0, 'mark': False, \"\n",
      " \"'visited': 4, 'chords': 0})}\")\n",
      "(\"Node 7: {'data': NodeCanonicalOrder({'index': 7, 'order': 2, 'mark': True, \"\n",
      " \"'visited': 3, 'chords': 0})}\")\n"
     ]
    }
   ],
   "source": [
    "show_graph_attributes(co.G)    "
   ]
  },
  {
   "cell_type": "code",
   "execution_count": 4,
   "metadata": {},
   "outputs": [
    {
     "data": {
      "text/plain": [
       "{7: {'unordered_boundary': [0, 1, 3, 4, 6], 'ordered_boundary': []},\n",
       " 6: {'unordered_boundary': [0, 7, 5, 3, 4, 6], 'ordered_boundary': []},\n",
       " 5: {'unordered_boundary': [0, 7, 5, 4, 6], 'ordered_boundary': []},\n",
       " 4: {'unordered_boundary': [0, 7, 5, 6], 'ordered_boundary': [1, 2, 3]},\n",
       " 3: {'unordered_boundary': [0, 7, 6], 'ordered_boundary': [1, 2, 4, 3]},\n",
       " 2: {'unordered_boundary': [], 'ordered_boundary': [1, 2, 4, 5]}}"
      ]
     },
     "execution_count": 4,
     "metadata": {},
     "output_type": "execute_result"
    }
   ],
   "source": [
    "co.rel_helper"
   ]
  },
  {
   "cell_type": "code",
   "execution_count": null,
   "metadata": {},
   "outputs": [
    {
     "data": {
      "text/plain": [
       "{0: 1, 1: 6, 2: 7, 3: 5, 4: 4, 5: 3, 6: 0, 7: 2}"
      ]
     },
     "execution_count": 5,
     "metadata": {},
     "output_type": "execute_result"
    }
   ],
   "source": [
    "order_map = {}\n",
    "index_map = {}\n",
    "for i in co.G.nodes.data():\n",
    "    # order_map[i[0]] = i[1][\"data\"].order\n",
    "    order = i[1][\"data\"].order\n",
    "    index = i[0]\n",
    "    order_map[order] = index\n",
    "    index_map[index] = order\n",
    "    # ic(i[0])\n",
    "    # ic(i[1][\"data\"].order)\n",
    "\n",
    "order_map\n",
    "index_map"
   ]
  },
  {
   "cell_type": "code",
   "execution_count": null,
   "metadata": {},
   "outputs": [
    {
     "name": "stderr",
     "output_type": "stream",
     "text": [
      "ic| nx.neighbors(co.G, index): <dict_keyiterator object at 0x13d3fa900>\n",
      "ic| nx.neighbors(co.G, index): <dict_keyiterator object at 0x13d3fa900>\n",
      "ic| nx.neighbors(co.G, index): <dict_keyiterator object at 0x13d3fa900>\n",
      "ic| nx.neighbors(co.G, index): <dict_keyiterator object at 0x13d3fa900>\n",
      "ic| nx.neighbors(co.G, index): <dict_keyiterator object at 0x13d3fa900>\n",
      "ic| nx.neighbors(co.G, index): <dict_keyiterator object at 0x13d3fa900>\n",
      "ic| nx.neighbors(co.G, index): <dict_keyiterator object at 0x13d3fc040>\n",
      "ic| nx.neighbors(co.G, index): <dict_keyiterator object at 0x13d3fc040>\n"
     ]
    }
   ],
   "source": [
    "for order, index in order_map.items():\n",
    "    # nbs = [n for n innx.neighbors(co.G, index) ]\n",
    "    ic(nx.neighbors(co.G, index))\n",
    "    # split into higher and lower order nbs \n",
    "    # to find the coloring, create a subgraph with each of the nbs, and find path \n",
    "    # if order of nb > current order, add edge pointing from index to nb"
   ]
  },
  {
   "cell_type": "code",
   "execution_count": null,
   "metadata": {},
   "outputs": [
    {
     "name": "stderr",
     "output_type": "stream",
     "text": [
      "ic| index: 5, nbs: [4, 6, 3, 7, 1]\n"
     ]
    }
   ],
   "source": [
    "# todo, could get this while doing the canonical ordering ..\n",
    "\n",
    "order = 3\n",
    "index = order_map[order]\n",
    "nbs = [n for n in nx.neighbors(co.G, index) ]\n",
    "\n",
    "ic(index, nbs)\n",
    "\n",
    "higher_order_nbs =[]\n",
    "lower_order_nbs = []\n",
    "\n",
    "for n in nbs:\n",
    "    nb_order = index_map[n]\n",
    "    if nb_order > order:\n",
    "        higher_order_nbs.append(n)\n",
    "    else:\n",
    "        lower_order_nbs.append(n)"
   ]
  },
  {
   "cell_type": "code",
   "execution_count": null,
   "metadata": {},
   "outputs": [
    {
     "data": {
      "text/plain": [
       "1"
      ]
     },
     "execution_count": 8,
     "metadata": {},
     "output_type": "execute_result"
    }
   ],
   "source": [
    "copy.deepcopy(1)"
   ]
  },
  {
   "cell_type": "code",
   "execution_count": null,
   "metadata": {},
   "outputs": [
    {
     "data": {
      "text/plain": [
       "[6, 7]"
      ]
     },
     "execution_count": 9,
     "metadata": {},
     "output_type": "execute_result"
    }
   ],
   "source": [
    "lower_order_nbs"
   ]
  },
  {
   "cell_type": "code",
   "execution_count": null,
   "metadata": {},
   "outputs": [
    {
     "data": {
      "text/plain": [
       "[0, 7, 6]"
      ]
     },
     "execution_count": 10,
     "metadata": {},
     "output_type": "execute_result"
    }
   ],
   "source": [
    "co.cb.cycle"
   ]
  },
  {
   "cell_type": "code",
   "execution_count": null,
   "metadata": {},
   "outputs": [
    {
     "data": {
      "text/plain": [
       "True"
      ]
     },
     "execution_count": 11,
     "metadata": {},
     "output_type": "execute_result"
    }
   ],
   "source": [
    "G_lower = nx.subgraph(co.G, lower_order_nbs)\n",
    "nx.is_simple_path(G_lower, lower_order_nbs) "
   ]
  },
  {
   "cell_type": "code",
   "execution_count": null,
   "metadata": {},
   "outputs": [],
   "source": []
  },
  {
   "cell_type": "code",
   "execution_count": null,
   "metadata": {},
   "outputs": [
    {
     "data": {
      "text/plain": [
       "EdgeView([(6, 7)])"
      ]
     },
     "execution_count": 12,
     "metadata": {},
     "output_type": "execute_result"
    }
   ],
   "source": [
    "G_lower.edges"
   ]
  },
  {
   "cell_type": "code",
   "execution_count": null,
   "metadata": {},
   "outputs": [
    {
     "data": {
      "text/plain": [
       "[4, 3, 1]"
      ]
     },
     "execution_count": 13,
     "metadata": {},
     "output_type": "execute_result"
    }
   ],
   "source": [
    "higher_order_nbs"
   ]
  }
 ],
 "metadata": {
  "kernelspec": {
   "display_name": "gqenv",
   "language": "python",
   "name": "python3"
  },
  "language_info": {
   "codemirror_mode": {
    "name": "ipython",
    "version": 3
   },
   "file_extension": ".py",
   "mimetype": "text/x-python",
   "name": "python",
   "nbconvert_exporter": "python",
   "pygments_lexer": "ipython3",
   "version": "3.9.15"
  }
 },
 "nbformat": 4,
 "nbformat_minor": 2
}
