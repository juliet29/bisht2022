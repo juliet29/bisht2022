{
 "cells": [
  {
   "cell_type": "code",
   "execution_count": 15,
   "metadata": {},
   "outputs": [],
   "source": [
    "from helpers import copy, nx, ic\n",
    "\n",
    "from simple_four_con import graph_data\n",
    "\n",
    "from canonical_order_kant import KantCanonicalOrder"
   ]
  },
  {
   "cell_type": "code",
   "execution_count": 16,
   "metadata": {},
   "outputs": [
    {
     "name": "stderr",
     "output_type": "stream",
     "text": [
      "ic| f\"updating chords for  {node_index} to {num_chords}\": 'updating chords for  7 to 1'\n",
      "ic| f\"updating chords for  {node_index} to {num_chords}\": 'updating chords for  5 to 2'\n",
      "ic| f"
     ]
    },
    {
     "name": "stderr",
     "output_type": "stream",
     "text": [
      "\"updating chords for  {node_index} to {num_chords}\": 'updating chords for  5 to 1'\n",
      "ic| f\"{node_index} has no more chords\": '5 has no more chords'\n",
      "ic| f\"updating chords for  {node_index} to {num_chords}\": 'updating chords for  6 to 1'\n",
      "ic| f\"{node_index} has no more chords\": '6 has no more chords'\n",
      "ic| f\"{node_index} has no more chords\": '7 has no more chords'\n",
      "ic| f\"ISSUE  FINDING UNMARKED CYCLE when vk = {self.vk}\": 'ISSUE  FINDING UNMARKED CYCLE when vk = 2'\n",
      "ic| f\"completed order - vk == {self.vk}\": 'completed order - vk == 1'\n"
     ]
    }
   ],
   "source": [
    "co = KantCanonicalOrder(copy.deepcopy(graph_data))\n",
    "co.initialize_order()\n",
    "co.finish_order()"
   ]
  },
  {
   "cell_type": "code",
   "execution_count": 17,
   "metadata": {},
   "outputs": [
    {
     "data": {
      "text/plain": [
       "{7: {'unordered_boundary': [0, 1, 3, 4, 6], 'ordered_boundary': []},\n",
       " 6: {'unordered_boundary': [0, 7, 5, 3, 4, 6], 'ordered_boundary': []},\n",
       " 5: {'unordered_boundary': [0, 7, 5, 4, 6], 'ordered_boundary': []},\n",
       " 4: {'unordered_boundary': [0, 7, 5, 6], 'ordered_boundary': [1, 2, 3]},\n",
       " 3: {'unordered_boundary': [0, 7, 6], 'ordered_boundary': [1, 2, 4, 3]},\n",
       " 2: {'unordered_boundary': [], 'ordered_boundary': [1, 2, 4, 5]}}"
      ]
     },
     "execution_count": 17,
     "metadata": {},
     "output_type": "execute_result"
    }
   ],
   "source": [
    "rel_help = co.rel_helper\n",
    "rel_help"
   ]
  },
  {
   "cell_type": "code",
   "execution_count": 21,
   "metadata": {},
   "outputs": [],
   "source": [
    "def create_mapping():\n",
    "    order_map = {} \n",
    "    index_map = {}\n",
    "    for i in co.G.nodes.data():\n",
    "        order = i[1][\"data\"].order\n",
    "        index = i[0]\n",
    "        order_map[order] = index\n",
    "        index_map[index] = order\n",
    "\n",
    "def get_node_index_by_order(order):\n",
    "    return order_map[order]\n",
    "\n",
    "def get_order_by_node_index(node_index):\n",
    "    return index_map[node_index]\n",
    "\n",
    "def get_node_nbs(node_index):\n",
    "    return [n for n in nx.neighbors(co.G, node_index)]"
   ]
  },
  {
   "cell_type": "code",
   "execution_count": 22,
   "metadata": {},
   "outputs": [
    {
     "name": "stderr",
     "output_type": "stream",
     "text": [
      "ic| curr_node_index: 7, curr_nbs: [6, 0, 1, 5]\n"
     ]
    },
    {
     "data": {
      "text/plain": [
       "(7, [6, 0, 1, 5])"
      ]
     },
     "execution_count": 22,
     "metadata": {},
     "output_type": "execute_result"
    }
   ],
   "source": [
    "create_mapping()\n",
    "\n",
    "curr_order = 2\n",
    "curr_node_index = get_node_index_by_order(curr_order)\n",
    "curr_nbs = get_node_nbs(curr_node_index)\n",
    "ic(curr_node_index, curr_nbs)\n"
   ]
  },
  {
   "cell_type": "code",
   "execution_count": 24,
   "metadata": {},
   "outputs": [],
   "source": [
    "# find nbs in unordered and ordered boundary.. \n",
    "ordered_boundary = co.rel_helper[curr_order][\"ordered_boundary\"]\n",
    "\n",
    "ordered_nbs = []\n",
    "for nb in curr_nbs:\n",
    "    if nb in ordered_boundary:\n",
    "        ordered_nbs.append(nb)\n",
    "\n",
    "assert len(ordered_nbs) == 2\n"
   ]
  },
  {
   "cell_type": "code",
   "execution_count": 25,
   "metadata": {},
   "outputs": [
    {
     "data": {
      "text/plain": [
       "[1, 5]"
      ]
     },
     "execution_count": 25,
     "metadata": {},
     "output_type": "execute_result"
    }
   ],
   "source": [
    "ordered_nbs"
   ]
  },
  {
   "cell_type": "code",
   "execution_count": null,
   "metadata": {},
   "outputs": [
    {
     "name": "stderr",
     "output_type": "stream",
     "text": [
      "ic| nx.neighbors(co.G, index): <dict_keyiterator object at 0x13d3fa900>\n",
      "ic| nx.neighbors(co.G, index): <dict_keyiterator object at 0x13d3fa900>\n",
      "ic| nx.neighbors(co.G, index): <dict_keyiterator object at 0x13d3fa900>\n",
      "ic| nx.neighbors(co.G, index): <dict_keyiterator object at 0x13d3fa900>\n",
      "ic| nx.neighbors(co.G, index): <dict_keyiterator object at 0x13d3fa900>\n",
      "ic| nx.neighbors(co.G, index): <dict_keyiterator object at 0x13d3fa900>\n",
      "ic| nx.neighbors(co.G, index): <dict_keyiterator object at 0x13d3fc040>\n",
      "ic| nx.neighbors(co.G, index): <dict_keyiterator object at 0x13d3fc040>\n"
     ]
    }
   ],
   "source": [
    "for order, index in order_map.items():\n",
    "    # nbs = [n for n innx.neighbors(co.G, index) ]\n",
    "    ic(nx.neighbors(co.G, index))\n",
    "    # split into higher and lower order nbs \n",
    "    # to find the coloring, create a subgraph with each of the nbs, and find path \n",
    "    # if order of nb > current order, add edge pointing from index to nb"
   ]
  },
  {
   "cell_type": "code",
   "execution_count": null,
   "metadata": {},
   "outputs": [
    {
     "name": "stderr",
     "output_type": "stream",
     "text": [
      "ic| index: 5, nbs: [4, 6, 3, 7, 1]\n"
     ]
    }
   ],
   "source": [
    "# todo, could get this while doing the canonical ordering ..\n",
    "\n",
    "order = 3\n",
    "index = order_map[order]\n",
    "nbs = [n for n in nx.neighbors(co.G, index) ]\n",
    "\n",
    "ic(index, nbs)\n",
    "\n",
    "higher_order_nbs =[]\n",
    "lower_order_nbs = []\n",
    "\n",
    "for n in nbs:\n",
    "    nb_order = index_map[n]\n",
    "    if nb_order > order:\n",
    "        higher_order_nbs.append(n)\n",
    "    else:\n",
    "        lower_order_nbs.append(n)"
   ]
  },
  {
   "cell_type": "code",
   "execution_count": null,
   "metadata": {},
   "outputs": [
    {
     "data": {
      "text/plain": [
       "1"
      ]
     },
     "execution_count": 8,
     "metadata": {},
     "output_type": "execute_result"
    }
   ],
   "source": [
    "copy.deepcopy(1)"
   ]
  },
  {
   "cell_type": "code",
   "execution_count": null,
   "metadata": {},
   "outputs": [
    {
     "data": {
      "text/plain": [
       "[6, 7]"
      ]
     },
     "execution_count": 9,
     "metadata": {},
     "output_type": "execute_result"
    }
   ],
   "source": [
    "lower_order_nbs"
   ]
  },
  {
   "cell_type": "code",
   "execution_count": null,
   "metadata": {},
   "outputs": [
    {
     "data": {
      "text/plain": [
       "[0, 7, 6]"
      ]
     },
     "execution_count": 10,
     "metadata": {},
     "output_type": "execute_result"
    }
   ],
   "source": [
    "co.cb.cycle"
   ]
  },
  {
   "cell_type": "code",
   "execution_count": null,
   "metadata": {},
   "outputs": [
    {
     "data": {
      "text/plain": [
       "True"
      ]
     },
     "execution_count": 11,
     "metadata": {},
     "output_type": "execute_result"
    }
   ],
   "source": [
    "G_lower = nx.subgraph(co.G, lower_order_nbs)\n",
    "nx.is_simple_path(G_lower, lower_order_nbs) "
   ]
  },
  {
   "cell_type": "code",
   "execution_count": null,
   "metadata": {},
   "outputs": [],
   "source": []
  },
  {
   "cell_type": "code",
   "execution_count": null,
   "metadata": {},
   "outputs": [
    {
     "data": {
      "text/plain": [
       "EdgeView([(6, 7)])"
      ]
     },
     "execution_count": 12,
     "metadata": {},
     "output_type": "execute_result"
    }
   ],
   "source": [
    "G_lower.edges"
   ]
  },
  {
   "cell_type": "code",
   "execution_count": null,
   "metadata": {},
   "outputs": [
    {
     "data": {
      "text/plain": [
       "[4, 3, 1]"
      ]
     },
     "execution_count": 13,
     "metadata": {},
     "output_type": "execute_result"
    }
   ],
   "source": [
    "higher_order_nbs"
   ]
  }
 ],
 "metadata": {
  "kernelspec": {
   "display_name": "gqenv",
   "language": "python",
   "name": "python3"
  },
  "language_info": {
   "codemirror_mode": {
    "name": "ipython",
    "version": 3
   },
   "file_extension": ".py",
   "mimetype": "text/x-python",
   "name": "python",
   "nbconvert_exporter": "python",
   "pygments_lexer": "ipython3",
   "version": "3.9.15"
  }
 },
 "nbformat": 4,
 "nbformat_minor": 2
}
