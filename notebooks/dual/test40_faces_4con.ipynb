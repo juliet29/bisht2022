{
 "cells": [
  {
   "cell_type": "code",
   "execution_count": 1,
   "metadata": {},
   "outputs": [],
   "source": [
    "import imports\n",
    "imports.update_path()\n",
    "\n",
    "from helpers import nx, np, ic, sp\n",
    "from helpers_classes import get_emedding_coords_as_point, GraphData\n",
    "\n",
    "from canonical_order_kant import KantCanonicalOrder\n",
    "from embedding import Embedding\n",
    "from faces3 import Faces\n",
    "import math\n",
    "\n",
    "from simple_four_con import graph_data\n",
    "\n",
    "\n",
    "from rel2 import REL2\n",
    "from copy import deepcopy"
   ]
  },
  {
   "cell_type": "code",
   "execution_count": 2,
   "metadata": {},
   "outputs": [
    {
     "name": "stderr",
     "output_type": "stream",
     "text": [
      "ic| f\"updating chords for  {node_index} to {num_chords}\": 'updating chords for  5 to 1'\n",
      "ic| f\"{node_index} has no more chords\": '5 has no more chords'\n",
      "ic| f\"updating chords for  {node_index} to {num_chords}\": 'updating chords for  7 to 1'\n",
      "ic| f\"{node_index} has no more chords\": '7 has no more chords'\n",
      "ic| f\"ISSUE  FINDING UNMARKED CYCLE when vk = {self.vk}\": 'ISSUE  FINDING UNMARKED CYCLE when vk = 2'\n",
      "ic| \"Since vk=2, lack of unmarked cycle is not a problem, graph has been sufficiently ordered.\": ('Since vk=2, lack of unmarked cycle is not a problem, graph has been '\n",
      "                                                                                                  'sufficiently ordered.')\n",
      "ic| f\"skipping {self.curr_node} bc it is a corner node\": 'skipping 4 bc it is a corner node'\n",
      "ic| self.curr_node: 3, self.valid_nbs: [1, 5]\n",
      "ic| self.curr_node: 5, self.valid_nbs: [1, 7, 6]\n",
      "ic| self.curr_node: 1, self.valid_nbs: [0, 7]\n",
      "ic| 'ending, sufficient edges'\n"
     ]
    },
    {
     "name": "stdout",
     "output_type": "stream",
     "text": [
      "completed order - vk == 1\n"
     ]
    }
   ],
   "source": [
    "co = KantCanonicalOrder(deepcopy(graph_data))\n",
    "co.initialize_order()\n",
    "co.finish_order()\n",
    "\n",
    "re = REL2(co)\n",
    "re.create_REL()"
   ]
  },
  {
   "cell_type": "code",
   "execution_count": 3,
   "metadata": {},
   "outputs": [],
   "source": [
    "em = Embedding(re.horizontal_st)\n",
    "em.get_graph_embedding()\n",
    "re.horizontal_st.update_embedding(em.half_edges)\n"
   ]
  },
  {
   "cell_type": "code",
   "execution_count": 4,
   "metadata": {},
   "outputs": [
    {
     "name": "stderr",
     "output_type": "stream",
     "text": [
      "ic| self.face_end: (4, 5)\n",
      "ic| self.curr_edge: (4, 3), self.end_node_nbs: [1, 4]\n",
      "ic| ix_curr: 1, self.ix_next: 0\n",
      "ic| self.curr_edge: (3, 1), self.end_node_nbs: [0, 5, 3]\n",
      "ic| self.curr_edge: (1, 5), self.end_node_nbs: [4, 1, 7]\n",
      "ic| ix_curr: 1, self.ix_next: 2\n",
      "ic| self.curr_edge: (5, 7), self.end_node_nbs: [0, 5]\n",
      "ic| self.curr_edge: (7, 5), self.end_node_nbs: [4, 1, 7]\n",
      "ic| ix_curr: 2, self.ix_next: 0\n",
      "ic| f\"handling face completion .. for {self.face} \": ('handling face completion .. for [(4, 3), (3, 1), (1, 5), (5, 7), (7, 5), (5, '\n",
      "                                                      '4)] ')\n"
     ]
    },
    {
     "ename": "IndexError",
     "evalue": "list index out of range",
     "output_type": "error",
     "traceback": [
      "\u001b[0;31m---------------------------------------------------------------------------\u001b[0m",
      "\u001b[0;31mIndexError\u001b[0m                                Traceback (most recent call last)",
      "Cell \u001b[0;32mIn[4], line 2\u001b[0m\n\u001b[1;32m      1\u001b[0m fa \u001b[38;5;241m=\u001b[39m Faces(re\u001b[38;5;241m.\u001b[39mhorizontal_st)\n\u001b[0;32m----> 2\u001b[0m \u001b[43mfa\u001b[49m\u001b[38;5;241;43m.\u001b[39;49m\u001b[43mfind_faces\u001b[49m\u001b[43m(\u001b[49m\u001b[43m)\u001b[49m\n",
      "File \u001b[0;32m~/_UILCode/gqe-phd/bisht2022/notebooks/dual/../../scripts/boundaries/faces3.py:12\u001b[0m, in \u001b[0;36mFaces.find_faces\u001b[0;34m(self)\u001b[0m\n\u001b[1;32m     10\u001b[0m \u001b[38;5;28;01mwhile\u001b[39;00m \u001b[38;5;28;01mTrue\u001b[39;00m:\n\u001b[1;32m     11\u001b[0m     \u001b[38;5;28mself\u001b[39m\u001b[38;5;241m.\u001b[39mupdate_focus_vertex()\n\u001b[0;32m---> 12\u001b[0m     \u001b[38;5;28;43mself\u001b[39;49m\u001b[38;5;241;43m.\u001b[39;49m\u001b[43mstart_face\u001b[49m\u001b[43m(\u001b[49m\u001b[43m)\u001b[49m\n\u001b[1;32m     13\u001b[0m     \u001b[38;5;28mself\u001b[39m\u001b[38;5;241m.\u001b[39mfinish_face()\n\u001b[1;32m     15\u001b[0m     \u001b[38;5;28;01mif\u001b[39;00m \u001b[38;5;28mself\u001b[39m\u001b[38;5;241m.\u001b[39mcheck_near_interior_goal():\n",
      "File \u001b[0;32m~/_UILCode/gqe-phd/bisht2022/notebooks/dual/../../scripts/boundaries/faces3.py:46\u001b[0m, in \u001b[0;36mFaces.start_face\u001b[0;34m(self)\u001b[0m\n\u001b[1;32m     44\u001b[0m \u001b[38;5;28;01mdef\u001b[39;00m \u001b[38;5;21mstart_face\u001b[39m(\u001b[38;5;28mself\u001b[39m):\n\u001b[1;32m     45\u001b[0m     \u001b[38;5;28mself\u001b[39m\u001b[38;5;241m.\u001b[39minititialize_face()\n\u001b[0;32m---> 46\u001b[0m     \u001b[38;5;28mself\u001b[39m\u001b[38;5;241m.\u001b[39mface_end \u001b[38;5;241m=\u001b[39m \u001b[38;5;28;43mself\u001b[39;49m\u001b[38;5;241;43m.\u001b[39;49m\u001b[43mget_edge\u001b[49m\u001b[43m(\u001b[49m\u001b[43membed\u001b[49m\u001b[38;5;241;43m=\u001b[39;49m\u001b[38;5;28;43mself\u001b[39;49m\u001b[38;5;241;43m.\u001b[39;49m\u001b[43mmutated_embedding\u001b[49m\u001b[43m,\u001b[49m\u001b[43m \u001b[49m\u001b[43medge_index\u001b[49m\u001b[38;5;241;43m=\u001b[39;49m\u001b[38;5;241;43m1\u001b[39;49m\u001b[43m)\u001b[49m \u001b[38;5;66;03m# TODO why is this 1, maybe it should be next or neg 1? \u001b[39;00m\n\u001b[1;32m     47\u001b[0m     ic(\u001b[38;5;28mself\u001b[39m\u001b[38;5;241m.\u001b[39mface_end)\n\u001b[1;32m     48\u001b[0m     \u001b[38;5;28mself\u001b[39m\u001b[38;5;241m.\u001b[39mface_end_nb \u001b[38;5;241m=\u001b[39m \u001b[38;5;28mself\u001b[39m\u001b[38;5;241m.\u001b[39mface_end[\u001b[38;5;241m1\u001b[39m]\n",
      "File \u001b[0;32m~/_UILCode/gqe-phd/bisht2022/notebooks/dual/../../scripts/boundaries/faces_base.py:28\u001b[0m, in \u001b[0;36mFacesBaseClass.get_edge\u001b[0;34m(self, embed, edge_index, node)\u001b[0m\n\u001b[1;32m     26\u001b[0m \u001b[38;5;28;01mdef\u001b[39;00m \u001b[38;5;21mget_edge\u001b[39m(\u001b[38;5;28mself\u001b[39m, embed, edge_index, node\u001b[38;5;241m=\u001b[39m\u001b[38;5;28;01mNone\u001b[39;00m):\n\u001b[1;32m     27\u001b[0m     focus_node \u001b[38;5;241m=\u001b[39m node \u001b[38;5;28;01mif\u001b[39;00m node \u001b[38;5;28;01melse\u001b[39;00m \u001b[38;5;28mself\u001b[39m\u001b[38;5;241m.\u001b[39mfocus_vertex\n\u001b[0;32m---> 28\u001b[0m     \u001b[38;5;28;01mreturn\u001b[39;00m \u001b[43membed\u001b[49m\u001b[43m[\u001b[49m\u001b[43mfocus_node\u001b[49m\u001b[43m]\u001b[49m\u001b[43m[\u001b[49m\u001b[43medge_index\u001b[49m\u001b[43m]\u001b[49m\n",
      "\u001b[0;31mIndexError\u001b[0m: list index out of range"
     ]
    }
   ],
   "source": [
    "fa = Faces(re.horizontal_st)\n",
    "fa.find_faces()"
   ]
  },
  {
   "cell_type": "code",
   "execution_count": null,
   "metadata": {},
   "outputs": [
    {
     "data": {
      "text/plain": [
       "(0, 7)"
      ]
     },
     "execution_count": 5,
     "metadata": {},
     "output_type": "execute_result"
    }
   ],
   "source": [
    "fa.curr_edge"
   ]
  },
  {
   "cell_type": "code",
   "execution_count": null,
   "metadata": {},
   "outputs": [
    {
     "data": {
      "text/plain": [
       "0"
      ]
     },
     "execution_count": 6,
     "metadata": {},
     "output_type": "execute_result"
    }
   ],
   "source": [
    "fa.focus_vertex"
   ]
  },
  {
   "cell_type": "code",
   "execution_count": null,
   "metadata": {},
   "outputs": [
    {
     "data": {
      "text/plain": [
       "[[(0, 1), (1, 3), (3, 4), (4, 5), (5, 7), (7, 0)]]"
      ]
     },
     "execution_count": 10,
     "metadata": {},
     "output_type": "execute_result"
    }
   ],
   "source": [
    "fa.faces"
   ]
  },
  {
   "cell_type": "code",
   "execution_count": null,
   "metadata": {},
   "outputs": [
    {
     "data": {
      "text/plain": [
       "{0: [(0, 7)],\n",
       " 1: [(1, 0), (1, 3)],\n",
       " 7: [(7, 5)],\n",
       " 3: [(3, 1), (3, 4)],\n",
       " 4: [(4, 3), (4, 5)],\n",
       " 5: [(5, 4), (5, 1)]}"
      ]
     },
     "execution_count": 7,
     "metadata": {},
     "output_type": "execute_result"
    }
   ],
   "source": [
    "fa.mutated_embedding"
   ]
  },
  {
   "cell_type": "code",
   "execution_count": null,
   "metadata": {},
   "outputs": [
    {
     "data": {
      "text/plain": [
       "{0: [(0, 1), (0, 7)],\n",
       " 1: [(1, 0), (1, 5), (1, 3)],\n",
       " 7: [(7, 0), (7, 5)],\n",
       " 3: [(3, 1), (3, 4)],\n",
       " 4: [(4, 3), (4, 5)],\n",
       " 5: [(5, 4), (5, 1), (5, 7)]}"
      ]
     },
     "execution_count": 7,
     "metadata": {},
     "output_type": "execute_result"
    }
   ],
   "source": [
    "fa.preserved_embedding"
   ]
  },
  {
   "cell_type": "code",
   "execution_count": null,
   "metadata": {},
   "outputs": [
    {
     "data": {
      "text/plain": [
       "{0: [(0, 4), (0, 1), (0, 7)],\n",
       " 1: [(1, 0), (1, 5), (1, 3)],\n",
       " 7: [(7, 0), (7, 5)],\n",
       " 3: [(3, 1), (3, 4)],\n",
       " 4: [(4, 3), (4, 0), (4, 5)],\n",
       " 5: [(5, 4), (5, 1), (5, 7)]}"
      ]
     },
     "execution_count": 6,
     "metadata": {},
     "output_type": "execute_result"
    }
   ],
   "source": [
    "re.horizontal_st.embedding"
   ]
  },
  {
   "cell_type": "code",
   "execution_count": null,
   "metadata": {},
   "outputs": [
    {
     "data": {
      "text/plain": [
       "STGraphData{'DG': <networkx.classes.digraph.DiGraph object at 0x128aa3b20>, 'embed': {0: array([-3,  0]), 1: array([0, 4]), 2: array([0, 8]), 3: array([3, 4]), 4: array([6, 2]), 5: array([3, 0]), 6: array([ 0, -4]), 7: array([0, 0])}, 'source': 0, 'target': 4, 'embedding': {0: [(0, 4), (0, 1), (0, 7)], 1: [(1, 0), (1, 5), (1, 3)], 7: [(7, 0), (7, 5)], 3: [(3, 1), (3, 4)], 4: [(4, 3), (4, 0), (4, 5)], 5: [(5, 4), (5, 1), (5, 7)]}, 'G': <networkx.classes.graph.Graph object at 0x128aa3a60>})"
      ]
     },
     "execution_count": 5,
     "metadata": {},
     "output_type": "execute_result"
    }
   ],
   "source": [
    "re.horizontal_st"
   ]
  },
  {
   "cell_type": "code",
   "execution_count": null,
   "metadata": {},
   "outputs": [
    {
     "data": {
      "image/png": "[encoded data removed]",
      "text/plain": [
       "<Figure size 640x480 with 1 Axes>"
      ]
     },
     "metadata": {},
     "output_type": "display_data"
    }
   ],
   "source": [
    "re.horizontal_st.plot_graph()"
   ]
  },
  {
   "cell_type": "code",
   "execution_count": null,
   "metadata": {},
   "outputs": [],
   "source": []
  }
 ],
 "metadata": {
  "kernelspec": {
   "display_name": "gqenv",
   "language": "python",
   "name": "python3"
  },
  "language_info": {
   "codemirror_mode": {
    "name": "ipython",
    "version": 3
   },
   "file_extension": ".py",
   "mimetype": "text/x-python",
   "name": "python",
   "nbconvert_exporter": "python",
   "pygments_lexer": "ipython3",
   "version": "3.9.15"
  }
 },
 "nbformat": 4,
 "nbformat_minor": 2
}
