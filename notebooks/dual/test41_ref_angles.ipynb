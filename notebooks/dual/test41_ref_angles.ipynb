{
 "cells": [
  {
   "cell_type": "code",
   "execution_count": 1,
   "metadata": {},
   "outputs": [],
   "source": [
    "import imports\n",
    "imports.update_path()\n",
    "\n",
    "from helpers import nx, np, ic, sp\n",
    "\n",
    "import math\n",
    "\n",
    "from angles import calc_angle_between_two_points, math, angle_from_dot_product\n",
    "\n",
    "\n",
    "from rel2 import REL2\n",
    "from copy import deepcopy"
   ]
  },
  {
   "cell_type": "code",
   "execution_count": 2,
   "metadata": {},
   "outputs": [
    {
     "data": {
      "text/plain": [
       "[<POINT (2 0)>, <POINT (3 2)>, <POINT (1 3)>, <POINT (-1 -1)>]"
      ]
     },
     "execution_count": 2,
     "metadata": {},
     "output_type": "execute_result"
    }
   ],
   "source": [
    "origin = sp.Point(0,0)\n",
    "test_coords = [(2,0), (3,2), (1,3), (-1,-1)]\n",
    "test_pts = [sp.Point(i) for i in test_coords]\n",
    "test_pts\n"
   ]
  },
  {
   "cell_type": "code",
   "execution_count": 3,
   "metadata": {},
   "outputs": [],
   "source": [
    "ref = sp.Point(1,0)"
   ]
  },
  {
   "cell_type": "code",
   "execution_count": 4,
   "metadata": {},
   "outputs": [
    {
     "name": "stderr",
     "output_type": "stream",
     "text": [
      "ic| quotient: 1.0, angle: 0.0\n"
     ]
    },
    {
     "data": {
      "text/plain": [
       "0.0"
      ]
     },
     "execution_count": 4,
     "metadata": {},
     "output_type": "execute_result"
    }
   ],
   "source": [
    "angle_from_dot_product(origin, ref, test_pts[0])"
   ]
  },
  {
   "cell_type": "code",
   "execution_count": 5,
   "metadata": {},
   "outputs": [
    {
     "name": "stderr",
     "output_type": "stream",
     "text": [
      "ic| quotient: 0.8320502943378436, angle: 0.5880026035475677\n"
     ]
    },
    {
     "data": {
      "text/plain": [
       "0.5880026035475677"
      ]
     },
     "execution_count": 5,
     "metadata": {},
     "output_type": "execute_result"
    }
   ],
   "source": [
    "angle_from_dot_product(origin, ref, test_pts[1])"
   ]
  },
  {
   "cell_type": "code",
   "execution_count": 6,
   "metadata": {},
   "outputs": [
    {
     "name": "stderr",
     "output_type": "stream",
     "text": [
      "ic| quotient: 0.31622776601683794, angle: 1.2490457723982544\n"
     ]
    },
    {
     "data": {
      "text/plain": [
       "1.2490457723982544"
      ]
     },
     "execution_count": 6,
     "metadata": {},
     "output_type": "execute_result"
    }
   ],
   "source": [
    "angle_from_dot_product(origin, ref, test_pts[2])"
   ]
  },
  {
   "cell_type": "code",
   "execution_count": 7,
   "metadata": {},
   "outputs": [
    {
     "name": "stderr",
     "output_type": "stream",
     "text": [
      "ic| quotient: -0.7071067811865475, angle: 2.356194490192345\n"
     ]
    },
    {
     "data": {
      "text/plain": [
       "2.356194490192345"
      ]
     },
     "execution_count": 7,
     "metadata": {},
     "output_type": "execute_result"
    }
   ],
   "source": [
    "angle_from_dot_product(origin, ref, test_pts[3])"
   ]
  },
  {
   "cell_type": "code",
   "execution_count": 8,
   "metadata": {},
   "outputs": [
    {
     "name": "stderr",
     "output_type": "stream",
     "text": [
      "ic| point: <POINT (2 0)>\n",
      "ic| simple_angle: 0.0\n",
      "ic| complex_angle: 0.0\n"
     ]
    },
    {
     "data": {
      "text/plain": [
       "(0.0, 0.0)"
      ]
     },
     "execution_count": 8,
     "metadata": {},
     "output_type": "execute_result"
    }
   ],
   "source": [
    "calc_angle_between_two_points(origin, test_pts[0])"
   ]
  },
  {
   "cell_type": "code",
   "execution_count": 9,
   "metadata": {},
   "outputs": [
    {
     "name": "stderr",
     "output_type": "stream",
     "text": [
      "ic| point: <POINT (3 2)>\n",
      "ic| simple_angle: 0.5880026035475675\n",
      "ic| complex_angle: -0.5880026035475675\n"
     ]
    },
    {
     "data": {
      "text/plain": [
       "(0.5880026035475675, -0.5880026035475675)"
      ]
     },
     "execution_count": 9,
     "metadata": {},
     "output_type": "execute_result"
    }
   ],
   "source": [
    "calc_angle_between_two_points(origin, test_pts[1])"
   ]
  },
  {
   "cell_type": "code",
   "execution_count": 10,
   "metadata": {},
   "outputs": [
    {
     "name": "stderr",
     "output_type": "stream",
     "text": [
      "ic| point: <POINT (1 3)>\n",
      "ic| simple_angle: 1.2490457723982544\n",
      "ic| complex_angle: -1.2490457723982544\n"
     ]
    },
    {
     "data": {
      "text/plain": [
       "(1.2490457723982544, -1.2490457723982544)"
      ]
     },
     "execution_count": 10,
     "metadata": {},
     "output_type": "execute_result"
    }
   ],
   "source": [
    "calc_angle_between_two_points(origin, test_pts[2])"
   ]
  },
  {
   "cell_type": "code",
   "execution_count": 11,
   "metadata": {},
   "outputs": [
    {
     "name": "stderr",
     "output_type": "stream",
     "text": [
      "ic| point: <POINT (-1 -1)>\n",
      "ic| simple_angle: -2.356194490192345\n",
      "ic| 'negative simple angle'\n",
      "ic| simple_angle: 3.9269908169872414\n",
      "ic| complex_angle: 2.356194490192345\n"
     ]
    },
    {
     "data": {
      "text/plain": [
       "(3.9269908169872414, 2.356194490192345)"
      ]
     },
     "execution_count": 11,
     "metadata": {},
     "output_type": "execute_result"
    }
   ],
   "source": [
    "calc_angle_between_two_points(origin, test_pts[3])"
   ]
  },
  {
   "cell_type": "code",
   "execution_count": null,
   "metadata": {},
   "outputs": [],
   "source": []
  },
  {
   "cell_type": "code",
   "execution_count": 12,
   "metadata": {},
   "outputs": [],
   "source": [
    "class RotTransform2D:\n",
    "    def __init__(self, theta) -> None:\n",
    "        self.r1c1 = np.round(math.cos(theta), 12)\n",
    "        self.r1c2 = np.round(-math.sin(theta), 12)\n",
    "        self.r2c1 = np.round(math.sin(theta), 12)\n",
    "        self.r2c2 = np.round(math.cos(theta), 12)\n",
    "\n",
    "    def apply_transform(self, vec:sp.Point):\n",
    "        xp = vec.x * self.r1c1 + vec.y * self.r1c2\n",
    "        yp = vec.x * self.r2c1 + vec.y * self.r2c2\n",
    "        vec_transformed = sp.Point(xp, yp)\n",
    "        ic((vec_transformed.x, vec_transformed.y))\n",
    "        return vec_transformed\n"
   ]
  },
  {
   "cell_type": "code",
   "execution_count": 13,
   "metadata": {},
   "outputs": [],
   "source": [
    "rot = RotTransform2D(math.pi)"
   ]
  },
  {
   "cell_type": "code",
   "execution_count": 14,
   "metadata": {},
   "outputs": [
    {
     "name": "stderr",
     "output_type": "stream",
     "text": [
      "ic| (vec_transformed.x, vec_transformed.y): (-0.0, -1.0)\n"
     ]
    },
    {
     "data": {
      "image/svg+xml": [
       "<svg xmlns=\"http://www.w3.org/2000/svg\" xmlns:xlink=\"http://www.w3.org/1999/xlink\" width=\"100.0\" height=\"100.0\" viewBox=\"-1.0 -2.0 2.0 2.0\" preserveAspectRatio=\"xMinYMin meet\"><g transform=\"matrix(1,0,0,-1,0,-2.0)\"><circle cx=\"-0.0\" cy=\"-1.0\" r=\"0.06\" stroke=\"#555555\" stroke-width=\"0.02\" fill=\"#66cc99\" opacity=\"0.6\" /></g></svg>"
      ],
      "text/plain": [
       "<POINT (0 -1)>"
      ]
     },
     "execution_count": 14,
     "metadata": {},
     "output_type": "execute_result"
    }
   ],
   "source": [
    "rot.apply_transform(sp.Point(0,1))"
   ]
  }
 ],
 "metadata": {
  "kernelspec": {
   "display_name": "gqenv",
   "language": "python",
   "name": "python3"
  },
  "language_info": {
   "codemirror_mode": {
    "name": "ipython",
    "version": 3
   },
   "file_extension": ".py",
   "mimetype": "text/x-python",
   "name": "python",
   "nbconvert_exporter": "python",
   "pygments_lexer": "ipython3",
   "version": "3.9.15"
  }
 },
 "nbformat": 4,
 "nbformat_minor": 2
}
