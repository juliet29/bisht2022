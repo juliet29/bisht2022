{
 "cells": [
  {
   "cell_type": "code",
   "execution_count": 1,
   "metadata": {},
   "outputs": [],
   "source": [
    "import imports\n",
    "imports.update_path()\n",
    "\n",
    "from helpers import nx, np, sp\n",
    "from helpers_classes import get_emedding_coords_as_point, GraphData\n",
    "\n",
    "from canonical_order_kant import KantCanonicalOrder\n",
    "# from embedding import Embedding\n",
    "from faces4 import Faces\n",
    "\n",
    "from angles import calc_tangent_angle_between_two_points, angle_from_dot_product, create_unit_vector\n",
    "\n",
    "import math\n",
    "\n",
    "from simple_four_con import graph_data\n",
    "\n",
    "\n",
    "from rel2 import REL2\n",
    "from copy import deepcopy\n",
    "\n",
    "from icecream import ic"
   ]
  },
  {
   "cell_type": "code",
   "execution_count": 2,
   "metadata": {},
   "outputs": [
    {
     "name": "stderr",
     "output_type": "stream",
     "text": [
      "ic| f\"updating chords for  {node_index} to {num_chords}\": 'updating chords for  5 to 1'\n",
      "ic| f\"{node_index} has no more chords\": '5 has no more chords'\n",
      "ic| f\"updating chords for  {node_index} to {num_chords}\": 'updating chords for  7 to 1'\n",
      "ic| f\"{node_index} has no more chords\": '7 has no more chords'\n",
      "ic| f\"ISSUE  FINDING UNMARKED CYCLE when vk = {self.vk}\": 'ISSUE  FINDING UNMARKED CYCLE when vk = 2'\n",
      "ic| \"Since vk=2, lack of unmarked cycle is not a problem, graph has been sufficiently ordered.\": ('Since vk=2, lack of unmarked cycle is not a problem, graph has been '\n",
      "                                                                                                  'sufficiently ordered.')\n",
      "ic| f\"skipping {self.curr_node} bc it is a corner node\": 'skipping 4 bc it is a corner node'\n",
      "ic| self.curr_node: 3, self.valid_nbs: [1, 5]\n",
      "ic| self.curr_node: 5, self.valid_nbs: [1, 7, 6]\n",
      "ic| self.curr_node: 1, self.valid_nbs: [0, 7]\n",
      "ic| 'ending, sufficient edges'\n"
     ]
    },
    {
     "name": "stdout",
     "output_type": "stream",
     "text": [
      "completed order - vk == 1\n"
     ]
    }
   ],
   "source": [
    "co = KantCanonicalOrder(deepcopy(graph_data))\n",
    "co.initialize_order()\n",
    "co.finish_order()\n",
    "\n",
    "re = REL2(co)\n",
    "re.create_REL()"
   ]
  },
  {
   "cell_type": "code",
   "execution_count": 3,
   "metadata": {},
   "outputs": [
    {
     "data": {
      "text/plain": [
       "EdgeView([(0, 1), (0, 7), (1, 3), (1, 5), (7, 5), (3, 4), (4, 5)])"
      ]
     },
     "execution_count": 3,
     "metadata": {},
     "output_type": "execute_result"
    }
   ],
   "source": [
    "fa = Faces(deepcopy(re.horizontal_st))\n",
    "fa.G.remove_edge(0,4)\n",
    "fa.G.edges"
   ]
  },
  {
   "cell_type": "code",
   "execution_count": 4,
   "metadata": {},
   "outputs": [
    {
     "name": "stderr",
     "output_type": "stream",
     "text": [
      "ic| angle: 0.9272952180016123, test_node: 1\n",
      "ic| angle:"
     ]
    },
    {
     "name": "stderr",
     "output_type": "stream",
     "text": [
      " 0.0, test_node: 7\n",
      "ic| self.prev_node: 0, self.curr_node: 1\n"
     ]
    }
   ],
   "source": [
    "fa.start_node = 0\n",
    "fa.find_start_edge()"
   ]
  },
  {
   "cell_type": "code",
   "execution_count": 9,
   "metadata": {},
   "outputs": [
    {
     "name": "stderr",
     "output_type": "stream",
     "text": [
      "ic| self.face: [0, 1, 5, 7, 0]\n",
      "ic| 'complete face'\n",
      "ic| self.faces: [[0, 1, 5, 7, 0]]\n"
     ]
    }
   ],
   "source": [
    "fa.get_next_edge()"
   ]
  }
 ],
 "metadata": {
  "kernelspec": {
   "display_name": "gqenv",
   "language": "python",
   "name": "python3"
  },
  "language_info": {
   "codemirror_mode": {
    "name": "ipython",
    "version": 3
   },
   "file_extension": ".py",
   "mimetype": "text/x-python",
   "name": "python",
   "nbconvert_exporter": "python",
   "pygments_lexer": "ipython3",
   "version": "3.9.15"
  }
 },
 "nbformat": 4,
 "nbformat_minor": 2
}
