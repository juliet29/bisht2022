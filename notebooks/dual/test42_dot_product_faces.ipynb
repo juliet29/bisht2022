{
 "cells": [
  {
   "cell_type": "code",
   "execution_count": 1,
   "metadata": {},
   "outputs": [],
   "source": [
    "import imports\n",
    "imports.update_path()\n",
    "\n",
    "from helpers import nx, np, sp\n",
    "from helpers_classes import get_emedding_coords_as_point, GraphData\n",
    "\n",
    "from canonical_order_kant import KantCanonicalOrder\n",
    "from embedding import Embedding\n",
    "from faces4 import Faces\n",
    "\n",
    "from angles import calc_angle_between_two_points,angle_from_dot_product\n",
    "\n",
    "import math\n",
    "\n",
    "from simple_four_con import graph_data\n",
    "\n",
    "\n",
    "from rel2 import REL2\n",
    "from copy import deepcopy\n",
    "\n",
    "from icecream import ic"
   ]
  },
  {
   "cell_type": "code",
   "execution_count": 2,
   "metadata": {},
   "outputs": [
    {
     "name": "stderr",
     "output_type": "stream",
     "text": [
      "ic| f\"updating chords for  {node_index} to {num_chords}\": 'updating chords for  5 to 1'\n",
      "ic| f\"{node_index} has no more chords\": '5 has no more chords'\n",
      "ic| f\"updating chords for  {node_index} to {num_chords}\": 'updating chords for  7 to 1'\n",
      "ic| f\"{node_index} has no more chords\": '7 has no more chords'\n",
      "ic| f\"ISSUE  FINDING UNMARKED CYCLE when vk = {self.vk}\": 'ISSUE  FINDING UNMARKED CYCLE when vk = 2'\n",
      "ic| \"Since vk=2, lack of unmarked cycle is not a problem, graph has been sufficiently ordered.\": ('Since vk=2, lack of unmarked cycle is not a problem, graph has been '\n",
      "                                                                                                  'sufficiently ordered.')\n",
      "ic| f\"skipping {self.curr_node} bc it is a corner node\": 'skipping 4 bc it is a corner node'\n",
      "ic| self.curr_node: 3, self.valid_nbs: [1, 5]\n",
      "ic| self.curr_node: 5, self.valid_nbs: [1, 7, 6]\n",
      "ic| self.curr_node: 1, self.valid_nbs: [0, 7]\n",
      "ic| 'ending, sufficient edges'\n"
     ]
    },
    {
     "name": "stdout",
     "output_type": "stream",
     "text": [
      "completed order - vk == 1\n"
     ]
    }
   ],
   "source": [
    "co = KantCanonicalOrder(deepcopy(graph_data))\n",
    "co.initialize_order()\n",
    "co.finish_order()\n",
    "\n",
    "re = REL2(co)\n",
    "re.create_REL()"
   ]
  },
  {
   "cell_type": "code",
   "execution_count": 3,
   "metadata": {},
   "outputs": [
    {
     "data": {
      "text/plain": [
       "EdgeView([(0, 1), (0, 7), (1, 3), (1, 5), (7, 5), (3, 4), (4, 5)])"
      ]
     },
     "execution_count": 3,
     "metadata": {},
     "output_type": "execute_result"
    }
   ],
   "source": [
    "fa = Faces(deepcopy(re.horizontal_st))\n",
    "fa.G.remove_edge(0,4)\n",
    "fa.G.edges"
   ]
  },
  {
   "cell_type": "code",
   "execution_count": 8,
   "metadata": {},
   "outputs": [
    {
     "name": "stderr",
     "output_type": "stream",
     "text": [
      "ic| self.face: [0, 1, 5, 7, 0]\n"
     ]
    }
   ],
   "source": [
    "fa.get_next_edge()"
   ]
  },
  {
   "cell_type": "code",
   "execution_count": 21,
   "metadata": {},
   "outputs": [],
   "source": [
    "fa.prev_node = 3\n",
    "fa.curr_node = 4\n",
    "fa.face = []"
   ]
  },
  {
   "cell_type": "code",
   "execution_count": 26,
   "metadata": {},
   "outputs": [
    {
     "name": "stderr",
     "output_type": "stream",
     "text": [
      "ic| self.face: [3, 4, 5, 1, 3]\n"
     ]
    }
   ],
   "source": [
    "fa.get_next_edge()"
   ]
  },
  {
   "cell_type": "code",
   "execution_count": 3,
   "metadata": {},
   "outputs": [
    {
     "data": {
      "text/plain": [
       "STGraphData{'DG': <networkx.classes.digraph.DiGraph object at 0x13180d130>, 'embed': {0: array([-3,  0]), 1: array([0, 4]), 2: array([0, 8]), 3: array([3, 4]), 4: array([6, 2]), 5: array([3, 0]), 6: array([ 0, -4]), 7: array([0, 0])}, 'source': 0, 'target': 4, 'embedding': None, 'G': <networkx.classes.graph.Graph object at 0x131808880>})"
      ]
     },
     "execution_count": 3,
     "metadata": {},
     "output_type": "execute_result"
    }
   ],
   "source": [
    "re.horizontal_st"
   ]
  },
  {
   "cell_type": "code",
   "execution_count": 4,
   "metadata": {},
   "outputs": [
    {
     "data": {
      "text/plain": [
       "{0: <POINT (-3 0)>,\n",
       " 1: <POINT (0 4)>,\n",
       " 2: <POINT (0 8)>,\n",
       " 3: <POINT (3 4)>,\n",
       " 4: <POINT (6 2)>,\n",
       " 5: <POINT (3 0)>,\n",
       " 6: <POINT (0 -4)>,\n",
       " 7: <POINT (0 0)>}"
      ]
     },
     "execution_count": 4,
     "metadata": {},
     "output_type": "execute_result"
    }
   ],
   "source": [
    "embed_points = {key:sp.Point(val) for key, val in re.horizontal_st.embed.items() }\n",
    "embed_points"
   ]
  },
  {
   "cell_type": "code",
   "execution_count": 5,
   "metadata": {},
   "outputs": [
    {
     "data": {
      "text/plain": [
       "[3, 5]"
      ]
     },
     "execution_count": 5,
     "metadata": {},
     "output_type": "execute_result"
    }
   ],
   "source": [
    "prev_node = 0\n",
    "curr_node = 1\n",
    "nbs_curr_node = [n for n in re.horizontal_st.G.neighbors(curr_node) if n != prev_node]\n",
    "nbs_curr_node"
   ]
  },
  {
   "cell_type": "code",
   "execution_count": 6,
   "metadata": {},
   "outputs": [
    {
     "name": "stderr",
     "output_type": "stream",
     "text": [
      "ic| nb: 3, angle: 2.214297435588181\n",
      "ic|"
     ]
    },
    {
     "name": "stderr",
     "output_type": "stream",
     "text": [
      " nb: 5, angle: 1.2870022175865687\n"
     ]
    }
   ],
   "source": [
    "angles = []\n",
    "for nb in nbs_curr_node:\n",
    "    angle = angle_from_dot_product(origin=embed_points[curr_node], a=embed_points[prev_node], b=embed_points[nb])\n",
    "    angles.append((angle, nb))\n",
    "    ic(nb, angle)"
   ]
  },
  {
   "cell_type": "code",
   "execution_count": 7,
   "metadata": {},
   "outputs": [
    {
     "name": "stderr",
     "output_type": "stream",
     "text": [
      "ic| prev_node: 1, curr_node: 5\n"
     ]
    },
    {
     "data": {
      "text/plain": [
       "(1, 5)"
      ]
     },
     "execution_count": 7,
     "metadata": {},
     "output_type": "execute_result"
    }
   ],
   "source": [
    "prev_node = curr_node\n",
    "curr_node = sorted(angles)[0][1]\n",
    "\n",
    "ic(prev_node, curr_node)"
   ]
  },
  {
   "cell_type": "code",
   "execution_count": 8,
   "metadata": {},
   "outputs": [
    {
     "data": {
      "text/plain": [
       "[7, 4]"
      ]
     },
     "execution_count": 8,
     "metadata": {},
     "output_type": "execute_result"
    }
   ],
   "source": [
    "nbs_curr_node = [n for n in re.horizontal_st.G.neighbors(curr_node) if n != prev_node]\n",
    "nbs_curr_node"
   ]
  },
  {
   "cell_type": "code",
   "execution_count": 9,
   "metadata": {},
   "outputs": [
    {
     "name": "stderr",
     "output_type": "stream",
     "text": [
      "ic| nb: 7, angle: 0.9272952180016123\n",
      "ic| nb: 4, angle: 1.6262948320406134\n"
     ]
    }
   ],
   "source": [
    "angles = []\n",
    "for nb in nbs_curr_node:\n",
    "    angle = angle_from_dot_product(origin=embed_points[curr_node], a=embed_points[prev_node], b=embed_points[nb])\n",
    "    angles.append((angle, nb))\n",
    "    ic(nb, angle)"
   ]
  },
  {
   "cell_type": "code",
   "execution_count": 10,
   "metadata": {},
   "outputs": [
    {
     "name": "stderr",
     "output_type": "stream",
     "text": [
      "ic| prev_node: 5, curr_node: 7\n"
     ]
    },
    {
     "data": {
      "text/plain": [
       "(5, 7)"
      ]
     },
     "execution_count": 10,
     "metadata": {},
     "output_type": "execute_result"
    }
   ],
   "source": [
    "prev_node = curr_node\n",
    "curr_node = sorted(angles)[0][1]\n",
    "\n",
    "ic(prev_node, curr_node)"
   ]
  }
 ],
 "metadata": {
  "kernelspec": {
   "display_name": "gqenv",
   "language": "python",
   "name": "python3"
  },
  "language_info": {
   "codemirror_mode": {
    "name": "ipython",
    "version": 3
   },
   "file_extension": ".py",
   "mimetype": "text/x-python",
   "name": "python",
   "nbconvert_exporter": "python",
   "pygments_lexer": "ipython3",
   "version": "3.9.15"
  }
 },
 "nbformat": 4,
 "nbformat_minor": 2
}
