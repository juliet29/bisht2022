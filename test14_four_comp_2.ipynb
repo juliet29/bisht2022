{
 "cells": [
  {
   "cell_type": "code",
   "execution_count": 1,
   "metadata": {},
   "outputs": [],
   "source": [
    "from helpers import * \n",
    "from processor import *\n",
    "\n",
    "from rel import * \n",
    "\n",
    "from boundary_cycle import *\n",
    "\n",
    "from canonical_order import * \n",
    "\n",
    "import copy"
   ]
  },
  {
   "cell_type": "code",
   "execution_count": 2,
   "metadata": {},
   "outputs": [],
   "source": [
    "G_st = st_graph(seed=1) #  doesnt help when refresh.. \n",
    "p = Processor(G_st)\n",
    "# p.run()\n",
    "# pos = plot_planar(p.G, p.embed)"
   ]
  },
  {
   "cell_type": "code",
   "execution_count": 3,
   "metadata": {},
   "outputs": [
    {
     "data": {
      "text/plain": [
       "OrderedDict([('init',\n",
       "              GraphData{'G': <networkx.classes.graph.Graph object at 0x11f890e20>, 'embed': {0: array([-1.        , -0.36206897]), 1: array([ 0.37931034, -0.0862069 ]), 2: array([ 0.65517241, -0.36206897]), 3: array([ 0.37931034, -0.22413793]), 4: array([-0.44827586,  0.18965517]), 5: array([-0.17241379,  0.46551724]), 6: array([-0.03448276,  0.32758621]), 7: array([0.24137931, 0.05172414])}, 'corner_node_data': None, 'rel': None}))])"
      ]
     },
     "execution_count": 3,
     "metadata": {},
     "output_type": "execute_result"
    }
   ],
   "source": [
    "p.history"
   ]
  },
  {
   "cell_type": "code",
   "execution_count": 4,
   "metadata": {},
   "outputs": [
    {
     "name": "stderr",
     "output_type": "stream",
     "text": [
      "ic| cut_vertices: [7, 0]\n"
     ]
    }
   ],
   "source": [
    "p.augment()"
   ]
  },
  {
   "cell_type": "code",
   "execution_count": 5,
   "metadata": {},
   "outputs": [
    {
     "data": {
      "text/plain": [
       "OrderedDict([('init',\n",
       "              GraphData{'G': <networkx.classes.graph.Graph object at 0x11f890e20>, 'embed': {0: array([-1.        , -0.36206897]), 1: array([ 0.37931034, -0.0862069 ]), 2: array([ 0.65517241, -0.36206897]), 3: array([ 0.37931034, -0.22413793]), 4: array([-0.44827586,  0.18965517]), 5: array([-0.17241379,  0.46551724]), 6: array([-0.03448276,  0.32758621]), 7: array([0.24137931, 0.05172414])}, 'corner_node_data': None, 'rel': None})),\n",
       "             ('augment',\n",
       "              GraphData{'G': <networkx.classes.graph.Graph object at 0x11f8ce7f0>, 'embed': {0: array([-1.        , -0.36206897]), 1: array([ 0.37931034, -0.22413793]), 2: array([ 0.37931034, -0.0862069 ]), 3: array([ 0.65517241, -0.36206897]), 4: array([-0.44827586,  0.18965517]), 5: array([-0.17241379,  0.46551724]), 6: array([-0.03448276,  0.32758621]), 7: array([0.24137931, 0.05172414])}, 'corner_node_data': None, 'rel': None}))])"
      ]
     },
     "execution_count": 5,
     "metadata": {},
     "output_type": "execute_result"
    }
   ],
   "source": [
    "p.history"
   ]
  },
  {
   "cell_type": "code",
   "execution_count": 6,
   "metadata": {},
   "outputs": [
    {
     "name": "stderr",
     "output_type": "stream",
     "text": [
      "ic| tri.target_edge: (0, 3)\n",
      "ic| 'same y', n1_y: -0.3620689655172414, n2_y: -0.3620689655172414\n",
      "ic| len(l3_cycles): 8, m: 16, n: 9, m - n + 1: 8\n"
     ]
    }
   ],
   "source": [
    "p.fix_separating_triangles()"
   ]
  },
  {
   "cell_type": "code",
   "execution_count": 7,
   "metadata": {},
   "outputs": [
    {
     "data": {
      "text/plain": [
       "OrderedDict([('init',\n",
       "              GraphData{'G': <networkx.classes.graph.Graph object at 0x11f890e20>, 'embed': {0: array([-1.        , -0.36206897]), 1: array([ 0.37931034, -0.0862069 ]), 2: array([ 0.65517241, -0.36206897]), 3: array([ 0.37931034, -0.22413793]), 4: array([-0.44827586,  0.18965517]), 5: array([-0.17241379,  0.46551724]), 6: array([-0.03448276,  0.32758621]), 7: array([0.24137931, 0.05172414])}, 'corner_node_data': None, 'rel': None})),\n",
       "             ('augment',\n",
       "              GraphData{'G': <networkx.classes.graph.Graph object at 0x11f8ce7f0>, 'embed': {0: array([-1.        , -0.36206897]), 1: array([ 0.37931034, -0.22413793]), 2: array([ 0.37931034, -0.0862069 ]), 3: array([ 0.65517241, -0.36206897]), 4: array([-0.44827586,  0.18965517]), 5: array([-0.17241379,  0.46551724]), 6: array([-0.03448276,  0.32758621]), 7: array([0.24137931, 0.05172414])}, 'corner_node_data': None, 'rel': None})),\n",
       "             ('fix_separating_triangles',\n",
       "              GraphData{'G': <networkx.classes.graph.Graph object at 0x14e9e3280>, 'embed': {0: array([-1.        , -0.36206897]), 1: array([ 0.37931034, -0.22413793]), 2: array([ 0.37931034, -0.0862069 ]), 3: array([ 0.65517241, -0.36206897]), 4: array([-0.44827586,  0.18965517]), 5: array([-0.17241379,  0.46551724]), 6: array([-0.03448276,  0.32758621]), 7: array([0.24137931, 0.05172414]), 8: array([-0.17241379, -0.36206897])}, 'corner_node_data': None, 'rel': None}))])"
      ]
     },
     "execution_count": 7,
     "metadata": {},
     "output_type": "execute_result"
    }
   ],
   "source": [
    "p.history"
   ]
  },
  {
   "cell_type": "code",
   "execution_count": 11,
   "metadata": {},
   "outputs": [
    {
     "data": {
      "text/plain": [
       "GraphData{'G': <networkx.classes.graph.Graph object at 0x12e5665e0>, 'embed': {0: array([-1.        , -0.36206897]), 1: array([ 0.37931034, -0.22413793]), 2: array([ 0.37931034, -0.0862069 ]), 3: array([ 0.65517241, -0.36206897]), 4: array([-0.44827586,  0.18965517]), 5: array([-0.17241379,  0.46551724]), 6: array([-0.03448276,  0.32758621]), 7: array([0.24137931, 0.05172414]), 8: array([ 0.51724138, -0.22413793])}, 'corner_node_data': None, 'rel': None})"
      ]
     },
     "execution_count": 11,
     "metadata": {},
     "output_type": "execute_result"
    }
   ],
   "source": [
    "p.data"
   ]
  },
  {
   "cell_type": "code",
   "execution_count": 5,
   "metadata": {},
   "outputs": [],
   "source": [
    "d = {\"a\": 5, \"b\": 6}"
   ]
  },
  {
   "cell_type": "code",
   "execution_count": 6,
   "metadata": {},
   "outputs": [
    {
     "data": {
      "text/plain": [
       "{'a': 5, 'b': 6}"
      ]
     },
     "execution_count": 6,
     "metadata": {},
     "output_type": "execute_result"
    }
   ],
   "source": [
    "copy.copy(d)"
   ]
  },
  {
   "cell_type": "code",
   "execution_count": 7,
   "metadata": {},
   "outputs": [
    {
     "ename": "NameError",
     "evalue": "name 'k' is not defined",
     "output_type": "error",
     "traceback": [
      "\u001b[0;31m---------------------------------------------------------------------------\u001b[0m",
      "\u001b[0;31mNameError\u001b[0m                                 Traceback (most recent call last)",
      "Cell \u001b[0;32mIn[7], line 1\u001b[0m\n\u001b[0;32m----> 1\u001b[0m \u001b[43mk\u001b[49m[\u001b[38;5;124m\"\u001b[39m\u001b[38;5;124ma\u001b[39m\u001b[38;5;124m\"\u001b[39m] \u001b[38;5;241m=\u001b[39m \u001b[38;5;241m12\u001b[39m\n",
      "\u001b[0;31mNameError\u001b[0m: name 'k' is not defined"
     ]
    }
   ],
   "source": [
    "k[\"a\"] = 12"
   ]
  },
  {
   "cell_type": "code",
   "execution_count": null,
   "metadata": {},
   "outputs": [],
   "source": [
    "d[\"b\"] = 13"
   ]
  },
  {
   "cell_type": "code",
   "execution_count": null,
   "metadata": {},
   "outputs": [
    {
     "data": {
      "text/plain": [
       "({'a': 5, 'b': 13}, {'a': 12, 'b': 6})"
      ]
     },
     "execution_count": 56,
     "metadata": {},
     "output_type": "execute_result"
    }
   ],
   "source": [
    "d, k"
   ]
  },
  {
   "cell_type": "code",
   "execution_count": null,
   "metadata": {},
   "outputs": [],
   "source": [
    "from collections import OrderedDict"
   ]
  },
  {
   "cell_type": "code",
   "execution_count": null,
   "metadata": {},
   "outputs": [],
   "source": [
    "class tempClass:\n",
    "    def __init__(self, G:nx.Graph) -> None:\n",
    "        self.embed = nx.planar_layout(G)\n",
    "        self.GraphData = GraphData(G, self.embed)\n",
    "        self.history = OrderedDict()\n",
    "        self.history[\"init\"] = self.GraphData\n",
    "\n",
    "\n",
    "\n",
    "    def fx_1(self):\n",
    "        node_len = len(self.GraphData.G.nodes)\n",
    "        print(node_len)\n",
    "        self.GraphData.G.add_node(node_len+1)\n",
    "        self.history.append({\"step1\": self.GraphData})\n"
   ]
  },
  {
   "cell_type": "code",
   "execution_count": null,
   "metadata": {},
   "outputs": [],
   "source": [
    "class holdObj:\n",
    "    def __init__(self, a=None, b=None) -> None:\n",
    "        self.a = a\n",
    "        self.b = b\n",
    "\n",
    "    def __repr__(self):\n",
    "        return f\"holdObj({self.__dict__})\"\n",
    "    "
   ]
  },
  {
   "cell_type": "code",
   "execution_count": null,
   "metadata": {},
   "outputs": [],
   "source": [
    "import inspect\n",
    "\n",
    "def get_calling_function_name():\n",
    "    # Get the frame of the calling function\n",
    "    frame = inspect.currentframe().f_back.f_back\n",
    "    # Get the name of the calling function\n",
    "    calling_function_name = frame.f_code.co_name\n",
    "    return calling_function_name"
   ]
  },
  {
   "cell_type": "code",
   "execution_count": null,
   "metadata": {},
   "outputs": [],
   "source": [
    "def foo():\n",
    "    print(\"Calling function:\", get_calling_function_name())\n",
    "\n",
    "def bar():\n",
    "    foo()"
   ]
  },
  {
   "cell_type": "code",
   "execution_count": null,
   "metadata": {},
   "outputs": [],
   "source": [
    "class tempClass:\n",
    "    def __init__(self, val) -> None:\n",
    "        self.obj = holdObj()\n",
    "        self.obj.a = val\n",
    "        self.obj.b = val+2\n",
    "        self.history = OrderedDict()\n",
    "        self.history[\"init\"] = copy.copy(self.obj)\n",
    "\n",
    "    def update_history(self):\n",
    "        hist_name = get_calling_function_name()\n",
    "        self.history[hist_name] = copy.copy(self.obj)\n",
    "\n",
    "    def fx_1(self):\n",
    "        # obj = copy.copy(self.obj)\n",
    "        self.obj.a = self.obj.a*2\n",
    "        self.update_history()\n",
    "        # self.history[\"fx1\"] = copy.copy(self.obj)\n",
    "\n",
    "\n",
    "    # def fx_1(self):\n",
    "    #     obj = copy.copy(self.obj)\n",
    "    #     obj.a = obj.a*2\n",
    "    #     self.history[\"fx1\"] = obj\n",
    "\n",
    "    def fx_2(self):\n",
    "        self.obj.b = self.obj.b*2\n",
    "        self.update_history()\n",
    "        # self.history[\"fx2\"] = copy.copy(self.obj)\n"
   ]
  },
  {
   "cell_type": "code",
   "execution_count": null,
   "metadata": {},
   "outputs": [
    {
     "name": "stderr",
     "output_type": "stream",
     "text": [
      "ic| t.history: OrderedDict([('init', holdObj({'a': 2, 'b': 4}))])\n",
      "ic| t.history: OrderedDict([('"
     ]
    },
    {
     "name": "stderr",
     "output_type": "stream",
     "text": [
      "init', holdObj({'a': 2, 'b': 4})),\n",
      "                            ('fx_1', holdObj({'a': 4, 'b': 4}))])\n",
      "ic| t.history: OrderedDict([('init', holdObj({'a': 2, 'b': 4})),\n",
      "                            ('fx_1', holdObj({'a': 4, 'b': 4})),\n",
      "                            ('fx_2', holdObj({'a': 4, 'b': 8}))])\n"
     ]
    },
    {
     "data": {
      "text/plain": [
       "OrderedDict([('init', holdObj({'a': 2, 'b': 4})),\n",
       "             ('fx_1', holdObj({'a': 4, 'b': 4})),\n",
       "             ('fx_2', holdObj({'a': 4, 'b': 8}))])"
      ]
     },
     "execution_count": 98,
     "metadata": {},
     "output_type": "execute_result"
    }
   ],
   "source": [
    "t = tempClass(2)\n",
    "ic(t.history)\n",
    "t.fx_1()\n",
    "ic(t.history)\n",
    "t.fx_2()\n",
    "ic(t.history)"
   ]
  },
  {
   "cell_type": "code",
   "execution_count": null,
   "metadata": {},
   "outputs": [
    {
     "name": "stderr",
     "output_type": "stream",
     "text": [
      "ic| id(val):"
     ]
    },
    {
     "name": "stderr",
     "output_type": "stream",
     "text": [
      " 5039106944\n",
      "ic| id(val): 5036168384\n",
      "ic| id(val): 4359129552\n"
     ]
    }
   ],
   "source": [
    "for val in t.history.values():\n",
    "    ic(id(val))"
   ]
  },
  {
   "cell_type": "code",
   "execution_count": null,
   "metadata": {},
   "outputs": [
    {
     "data": {
      "text/plain": [
       "5035705344"
      ]
     },
     "execution_count": 88,
     "metadata": {},
     "output_type": "execute_result"
    }
   ],
   "source": [
    "id(t.obj)"
   ]
  },
  {
   "cell_type": "code",
   "execution_count": null,
   "metadata": {},
   "outputs": [],
   "source": [
    "t.obj.a = 19"
   ]
  },
  {
   "cell_type": "code",
   "execution_count": null,
   "metadata": {},
   "outputs": [
    {
     "data": {
      "text/plain": [
       "OrderedDict([('init', holdObj({'a': 2, 'b': 4})),\n",
       "             ('fx1', holdObj({'a': 4, 'b': 4})),\n",
       "             ('fx2', holdObj({'a': 4, 'b': 8}))])"
      ]
     },
     "execution_count": 90,
     "metadata": {},
     "output_type": "execute_result"
    }
   ],
   "source": [
    "t.history"
   ]
  },
  {
   "cell_type": "code",
   "execution_count": null,
   "metadata": {},
   "outputs": [
    {
     "data": {
      "text/plain": [
       "OrderedDict([('init', holdObj({'a': 2, 'b': 4})),\n",
       "             ('fx1', holdObj({'a': 4, 'b': 4}))])"
      ]
     },
     "execution_count": 83,
     "metadata": {},
     "output_type": "execute_result"
    }
   ],
   "source": []
  },
  {
   "cell_type": "code",
   "execution_count": null,
   "metadata": {},
   "outputs": [
    {
     "data": {
      "text/plain": [
       "NodeView((0, 1, 2, 3, 4, 5, 6, 7, 9, 10))"
      ]
     },
     "execution_count": 66,
     "metadata": {},
     "output_type": "execute_result"
    }
   ],
   "source": [
    "t.history[1][\"step1\"].G.nodes"
   ]
  },
  {
   "cell_type": "code",
   "execution_count": null,
   "metadata": {},
   "outputs": [
    {
     "name": "stderr",
     "output_type": "stream",
     "text": [
      "ic| cut_vertices: [7, 0]\n",
      "ic| tri.target_edge: (0, 3)\n",
      "ic| 'same y', n1_y: -0.3620689655172414, n2_y: -0.3620689655172414\n",
      "ic| len(l3_cycles): 8, m: 16, n: 9, m - n + 1: 8\n",
      "ic| directions: {'east': (0.2873563218390804, -0.27011494252873564),\n",
      "                 'north': (0.05747126436781608, 0.23563218390804597),\n",
      "                 'south': (-0.5862068965517242, -0.3620689655172414),\n",
      "                 'west': (-0.5862068965517242, -0.3620689655172414)}\n",
      "ic| directions: {'east': (0.2873563218390804, -0.27011494252873564),\n",
      "                 'north': (0.05747126436781608, 0.23563218390804597),\n",
      "                 'south': (-0.5862068965517242, -0.3620689655172414),\n",
      "                 'west': (-0.5402298850574713, 0.09770114942528735)}\n",
      "ic| 'Passes planarity check'\n"
     ]
    },
    {
     "data": {
      "image/png": "[encoded data removed]",
      "text/plain": [
       "<Figure size 640x480 with 1 Axes>"
      ]
     },
     "metadata": {},
     "output_type": "display_data"
    }
   ],
   "source": [
    "G_st = st_graph(seed=1) #  doesnt help when refresh.. \n",
    "p = Processor(G_st)\n",
    "p.run()\n",
    "pos = plot_planar(p.G, p.embed)"
   ]
  },
  {
   "cell_type": "code",
   "execution_count": null,
   "metadata": {},
   "outputs": [],
   "source": [
    "c = CanonicalOrder(p.GraphData)\n",
    "c.connect_outer_edges()\n",
    "c.initialize_order()"
   ]
  },
  {
   "cell_type": "code",
   "execution_count": null,
   "metadata": {},
   "outputs": [],
   "source": [
    "\n"
   ]
  },
  {
   "cell_type": "code",
   "execution_count": null,
   "metadata": {},
   "outputs": [],
   "source": []
  }
 ],
 "metadata": {
  "kernelspec": {
   "display_name": "gqenv",
   "language": "python",
   "name": "python3"
  },
  "language_info": {
   "codemirror_mode": {
    "name": "ipython",
    "version": 3
   },
   "file_extension": ".py",
   "mimetype": "text/x-python",
   "name": "python",
   "nbconvert_exporter": "python",
   "pygments_lexer": "ipython3",
   "version": "3.9.15"
  }
 },
 "nbformat": 4,
 "nbformat_minor": 2
}
