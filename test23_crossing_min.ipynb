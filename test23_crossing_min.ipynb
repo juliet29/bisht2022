{
 "cells": [
  {
   "cell_type": "code",
   "execution_count": 1,
   "metadata": {},
   "outputs": [],
   "source": [
    "from helpers import * \n",
    "\n",
    "from four_complete import *\n",
    "from four_complete_locations import *\n",
    "from graph_checks import *\n",
    "\n",
    "from canonical_order import *\n",
    "\n",
    "from canonical_order_kant import *\n",
    "from crossing_min import *"
   ]
  },
  {
   "cell_type": "code",
   "execution_count": 2,
   "metadata": {},
   "outputs": [],
   "source": [
    "bottom_data = get_saved_graph_data(\"BOTTOM\")\n",
    "side_data = get_saved_graph_data()\n",
    "\n",
    "graph_data = side_data"
   ]
  },
  {
   "cell_type": "code",
   "execution_count": 3,
   "metadata": {},
   "outputs": [
    {
     "name": "stderr",
     "output_type": "stream",
     "text": [
      "ic| o: 1, direction: <CardinalDirections.SOUTH: 0>, ix: 10\n",
      "ic| o: 2, direction: <CardinalDirections.WEST: 1>, ix: 11\n",
      "ic| o: 3, direction: <CardinalDirections.NORTH: 2>, ix: 12\n",
      "ic| o: 0, direction: <CardinalDirections.EAST: 3>, ix: 9\n"
     ]
    }
   ],
   "source": [
    "f = FourComplete(graph_data)\n",
    "f.get_boundary_cyle()\n",
    "f.generate_dividing_indices()\n",
    "f.divide_boundary_cycle()\n",
    "f.ensure_no_cips()\n",
    "f.paths\n",
    "\n",
    "b = BoundaryCycle(copy.deepcopy(graph_data))\n",
    "locs = FourCompleteLocations(copy.deepcopy(graph_data), f.boundary, f.paths, b.boundary_line_string)\n",
    "locs.run()"
   ]
  }
 ],
 "metadata": {
  "kernelspec": {
   "display_name": "gqenv",
   "language": "python",
   "name": "python3"
  },
  "language_info": {
   "codemirror_mode": {
    "name": "ipython",
    "version": 3
   },
   "file_extension": ".py",
   "mimetype": "text/x-python",
   "name": "python",
   "nbconvert_exporter": "python",
   "pygments_lexer": "ipython3",
   "version": "3.9.15"
  }
 },
 "nbformat": 4,
 "nbformat_minor": 2
}
