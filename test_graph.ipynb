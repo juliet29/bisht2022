{
 "cells": [
  {
   "cell_type": "code",
   "execution_count": 34,
   "metadata": {},
   "outputs": [],
   "source": [
    "import networkx as nx\n",
    "from icecream import ic"
   ]
  },
  {
   "cell_type": "markdown",
   "metadata": {},
   "source": [
    "## Create graph (bish2022, fig. 7)"
   ]
  },
  {
   "cell_type": "code",
   "execution_count": 20,
   "metadata": {},
   "outputs": [],
   "source": [
    "G = nx.Graph()"
   ]
  },
  {
   "cell_type": "code",
   "execution_count": 21,
   "metadata": {},
   "outputs": [],
   "source": [
    "edges = [(1,2), (1,3), (1,4), \n",
    "        (2,3), (2,4),\n",
    "        (3,4), (3,5),\n",
    "        (5,6),\n",
    "        (6,7), (6,8),\n",
    "        (7,8)]\n",
    "G.add_edges_from(edges)"
   ]
  },
  {
   "cell_type": "code",
   "execution_count": 23,
   "metadata": {},
   "outputs": [
    {
     "data": {
      "image/png": "[encoded data removed]",
      "text/plain": [
       "<Figure size 640x480 with 1 Axes>"
      ]
     },
     "metadata": {},
     "output_type": "display_data"
    }
   ],
   "source": [
    "labels = {node: node for node in G.nodes}\n",
    "\n",
    "pos = nx.planar_layout(G)\n",
    "nx.draw_networkx_nodes(G, pos)\n",
    "nx.draw_networkx_edges(G,pos )\n",
    "nx.draw_networkx_labels(G, pos, labels=labels);"
   ]
  },
  {
   "cell_type": "markdown",
   "metadata": {},
   "source": [
    "## Find articulation points "
   ]
  },
  {
   "cell_type": "code",
   "execution_count": 29,
   "metadata": {},
   "outputs": [
    {
     "data": {
      "text/plain": [
       "[6, 5, 3]"
      ]
     },
     "execution_count": 29,
     "metadata": {},
     "output_type": "execute_result"
    }
   ],
   "source": [
    "cut_vertices = list(nx.articulation_points(G))\n",
    "cut_vertices"
   ]
  },
  {
   "cell_type": "markdown",
   "metadata": {},
   "source": [
    "## Algo 1"
   ]
  },
  {
   "cell_type": "code",
   "execution_count": 39,
   "metadata": {},
   "outputs": [
    {
     "data": {
      "text/plain": [
       "[{6, 7, 8}, {5, 6}, {3, 5}, {1, 2, 3, 4}]"
      ]
     },
     "execution_count": 39,
     "metadata": {},
     "output_type": "execute_result"
    }
   ],
   "source": [
    "blocks = list(nx.biconnected_components(G))\n",
    "blocks"
   ]
  },
  {
   "cell_type": "code",
   "execution_count": 72,
   "metadata": {},
   "outputs": [],
   "source": [
    "def check_block(node, blocks):\n",
    "    indices = []\n",
    "    set_members = []\n",
    "    for index, my_set in enumerate(blocks):\n",
    "        if node in my_set:\n",
    "            indices.append(index)\n",
    "            set_members.append(my_set)\n",
    "            # print(f\"The integer {node} belongs to the set at index {index}\")\n",
    "            # break\n",
    "    # else:\n",
    "    #     pass\n",
    "    #     print(f\"The integer {node} is not present in any set.\")\n",
    "    # ic(indices)\n",
    "    # set_members = set().union(*set_members)\n",
    "    return indices, set_members"
   ]
  },
  {
   "cell_type": "code",
   "execution_count": 65,
   "metadata": {},
   "outputs": [
    {
     "data": {
      "text/plain": [
       "{3, 5, 6}"
      ]
     },
     "execution_count": 65,
     "metadata": {},
     "output_type": "execute_result"
    }
   ],
   "source": [
    "k = [{5, 6}, {3, 5}]\n",
    "set().union(*k)"
   ]
  },
  {
   "cell_type": "code",
   "execution_count": 73,
   "metadata": {},
   "outputs": [
    {
     "data": {
      "text/plain": [
       "([1, 2], [{5, 6}, {3, 5}])"
      ]
     },
     "execution_count": 73,
     "metadata": {},
     "output_type": "execute_result"
    }
   ],
   "source": [
    "check_block(5, blocks)"
   ]
  },
  {
   "cell_type": "code",
   "execution_count": 74,
   "metadata": {},
   "outputs": [],
   "source": [
    "def biconnect(G, cut_vertices):\n",
    "    for v in cut_vertices:\n",
    "        # find vertices adjacent to x (ie neighbours of x?)\n",
    "        neighbors = list(G.neighbors(v))\n",
    "        blocks = list(nx.biconnected_components(G))\n",
    "        ic(\"\\n\", v, neighbors)\n",
    "        for curr_item, next_item in zip(neighbors, neighbors[1:]):\n",
    "            curr_block, curr_block_members = check_block(curr_item, blocks)\n",
    "            next_block, next_block_members = check_block(next_item, blocks)\n",
    "            ic(curr_item, curr_block_members)\n",
    "            ic(next_item, next_block_members)\n",
    "            if not set(curr_block) & set(next_block):\n",
    "                ic(\"No overlap\")\n",
    "\n",
    "\n",
    "\n"
   ]
  },
  {
   "cell_type": "code",
   "execution_count": 61,
   "metadata": {},
   "outputs": [
    {
     "data": {
      "text/plain": [
       "[{6, 7, 8}, {5, 6}, {3, 5}, {1, 2, 3, 4}]"
      ]
     },
     "execution_count": 61,
     "metadata": {},
     "output_type": "execute_result"
    }
   ],
   "source": [
    "blocks"
   ]
  },
  {
   "cell_type": "code",
   "execution_count": 75,
   "metadata": {},
   "outputs": [
    {
     "name": "stderr",
     "output_type": "stream",
     "text": [
      "ic| \"\\n\": '\n",
      "           '\n",
      "    v: 6\n",
      "    neighbors: [5, 7, 8]\n",
      "ic| curr_item: 5, curr_block_members: [{5, 6}, {3, 5}]\n",
      "ic| next_item: 7, next_block_members: [{8, 6, 7}]\n",
      "ic| 'No overlap'\n",
      "ic| curr_item: 7, curr_block_members: [{8, 6, 7}]\n",
      "ic| next_item: 8, next_block_members: [{8, 6, 7}]\n",
      "ic| \"\\n\": '\n",
      "           '\n",
      "    v: 5\n",
      "    neighbors: [3, 6]\n",
      "ic| curr_item: 3, curr_block_members: [{3, 5}, {1, 2, 3, 4}]\n",
      "ic| next_item: 6, next_block_members: [{8, 6, 7}, {5, 6}]\n",
      "ic| 'No overlap'\n",
      "ic| \"\\n\": '\n",
      "           '\n",
      "    v: 3\n",
      "    neighbors: [1, 2, 4, 5]\n",
      "ic| curr_item: 1, curr_block_members: [{1, 2, 3, 4}]\n",
      "ic| next_item: 2, next_block_members: [{1, 2, 3, 4}]\n",
      "ic| curr_item: 2, curr_block_members: [{1, 2, 3, 4}]\n",
      "ic| next_item: 4, next_block_members: [{1, 2, 3, 4}]\n",
      "ic| curr_item: 4, curr_block_members: [{1, 2, 3, 4}]\n",
      "ic| next_item: 5, next_block_members: [{5, 6}, {3, 5}]\n",
      "ic| 'No overlap'\n"
     ]
    }
   ],
   "source": [
    "biconnect(G, cut_vertices)"
   ]
  }
 ],
 "metadata": {
  "kernelspec": {
   "display_name": "gqenv",
   "language": "python",
   "name": "python3"
  },
  "language_info": {
   "codemirror_mode": {
    "name": "ipython",
    "version": 3
   },
   "file_extension": ".py",
   "mimetype": "text/x-python",
   "name": "python",
   "nbconvert_exporter": "python",
   "pygments_lexer": "ipython3",
   "version": "3.9.15"
  }
 },
 "nbformat": 4,
 "nbformat_minor": 2
}
