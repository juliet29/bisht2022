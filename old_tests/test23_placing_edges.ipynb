{
 "cells": [
  {
   "cell_type": "code",
   "execution_count": 1,
   "metadata": {},
   "outputs": [
    {
     "name": "stderr",
     "output_type": "stream",
     "text": [
      "ic| o: 1, direction: <CardinalDirections.SOUTH: 0>, ix: 10\n",
      "ic| o: 2, direction: <CardinalDirections.WEST: 1>, ix: 11\n",
      "ic| o: 3, direction: <CardinalDirections.NORTH: 2>, ix: 12\n",
      "ic| o: 0, direction: <CardinalDirections.EAST: 3>, ix: 9\n",
      "ic| math.degrees(radians): 45.39897143118667\n",
      "ic| math.degrees(radians): 322.4334418366985\n",
      "ic| self.guiding_circle_center: <POINT (-1 -0.362)>\n",
      "ic| f\" extrema {ix} is too close to edge's vertex\": \" extrema 2 is too close to edge's vertex\"\n",
      "ic| math.degrees(radians): 44.60087424028278\n",
      "ic| math.degrees(radians): 327.4207243567087\n",
      "ic| self.guiding_circle_center: <POINT (-1 -0.362)>\n"
     ]
    }
   ],
   "source": [
    "from placing_edges import *\n",
    "from simplify_by_angle import *\n",
    "from wand.image import Image\n",
    "from wand.drawing import Drawing\n",
    "from wand.color import Color"
   ]
  },
  {
   "cell_type": "code",
   "execution_count": 2,
   "metadata": {},
   "outputs": [],
   "source": [
    "# with Drawing() as draw:\n",
    "#     draw.stroke_color = Color('black')\n",
    "#     draw.stroke_width = 2\n",
    "#     draw.fill_color = Color('white')\n",
    "#     draw.arc(( 25, 25),  # Stating point\n",
    "#              ( 75, 75),  # Ending point\n",
    "#              (135,-45))  # From bottom left around to top right\n",
    "#     with Image(width=100,\n",
    "#                height=100,\n",
    "#                background=Color('lightblue')) as img:\n",
    "#         draw.draw(img)\n",
    "        \n",
    "        # img.save(filename='draw-arc.gif')"
   ]
  },
  {
   "cell_type": "code",
   "execution_count": 3,
   "metadata": {},
   "outputs": [
    {
     "name": "stderr",
     "output_type": "stream",
     "text": [
      "ic| pair: []\n"
     ]
    },
    {
     "name": "stderr",
     "output_type": "stream",
     "text": [
      "ic| pair: []\n",
      "ic| pair: []\n",
      "ic| pair: []\n",
      "ic| pair: []\n",
      "ic| pair: [(4, 10)]\n",
      "ic| pair: []\n",
      "ic| pair: []\n",
      "ic| pair: []\n",
      "ic| pair: []\n",
      "ic| pair: []\n",
      "ic| pair: []\n",
      "ic| pair: [(5, 10), (4, 10)]\n",
      "ic| pair: []\n",
      "ic| pair: []\n",
      "ic| pair: []\n"
     ]
    }
   ],
   "source": [
    "inner_faces = {}\n",
    "for ix, c in enumerate(nx.simple_cycles(G=cm.G, length_bound=3)):\n",
    "    pair = find_irregular_cycle(c)\n",
    "    ic(pair)\n",
    "    if pair:\n",
    "        ring = prepare_to_create_ring(c, pair)\n",
    "    else:\n",
    "        ring = sp.LinearRing(get_emedding_coords(cm.embed, c)),\n",
    "    inner_faces[ix] = {\n",
    "        \"cycle\": c,\n",
    "        \"shape\": ring,\n",
    "    }"
   ]
  },
  {
   "cell_type": "code",
   "execution_count": 4,
   "metadata": {},
   "outputs": [],
   "source": [
    "c1, c2 = inner_faces[12][\"shape\"]"
   ]
  },
  {
   "cell_type": "code",
   "execution_count": 5,
   "metadata": {},
   "outputs": [
    {
     "data": {
      "image/svg+xml": [
       "<svg xmlns=\"http://www.w3.org/2000/svg\" xmlns:xlink=\"http://www.w3.org/1999/xlink\" width=\"100.0\" height=\"100.0\" viewBox=\"-2.245681478248362 -1.6192393159944203 2.3239371319922886 2.484948653249968\" preserveAspectRatio=\"xMinYMin meet\"><g transform=\"matrix(1,0,0,-1,0,-0.7535299787388723)\"><polyline fill=\"none\" stroke=\"#66cc99\" stroke-width=\"0.04969897306499936\" points=\"-0.16666890531648415,0.4597321943288722 -0.7173600926225443,0.7736742019499936 -1.3509616675959775,0.7544541052560836 -1.8816111570455845,0.40770998162511224 -2.1536463429428077,-0.16484326966213825 -2.0872676565318327,-0.7952512628824746 -1.7019468089176126,-1.2985883391242292 -1.1107149044068436,-1.5272041806888659 -0.4870055775458443,-1.4140359717592486 -0.013779481561628004,-0.9922807939543099\" opacity=\"0.8\" /></g></svg>"
      ],
      "text/plain": [
       "<LINESTRING (-0.167 0.46, -0.717 0.774, -1.351 0.754, -1.882 0.408, -2.154 -...>"
      ]
     },
     "execution_count": 5,
     "metadata": {},
     "output_type": "execute_result"
    }
   ],
   "source": [
    "sp.LineString(c1)"
   ]
  },
  {
   "cell_type": "code",
   "execution_count": 6,
   "metadata": {},
   "outputs": [
    {
     "data": {
      "image/svg+xml": [
       "<svg xmlns=\"http://www.w3.org/2000/svg\" xmlns:xlink=\"http://www.w3.org/1999/xlink\" width=\"100.0\" height=\"100.0\" viewBox=\"-1.8731098592727293 -1.2412163852305815 1.5916465198858738 1.7448658188275874\" preserveAspectRatio=\"xMinYMin meet\"><g transform=\"matrix(1,0,0,-1,0,-0.7375669516335758)\"><polyline fill=\"none\" stroke=\"#66cc99\" stroke-width=\"0.034897316376551746\" points=\"-0.42073147501348085,0.22532357773771922 -0.802944563652835,0.4390247736404284 -1.2406783286904062,0.42701655963854374 -1.6106005994044104,0.19268226874777866 -1.808485199316152,-0.19795404724863838 -1.778577833900437,-0.6348299973207081 -1.5293049499884188,-0.9948551014505009 -1.1308995712361776,-1.1765917252740041 -0.6956130342170541,-1.128835291703414 -0.3460879993434328,-0.8650412503490341\" opacity=\"0.8\" /></g></svg>"
      ],
      "text/plain": [
       "<LINESTRING (-0.421 0.225, -0.803 0.439, -1.241 0.427, -1.611 0.193, -1.808 ...>"
      ]
     },
     "execution_count": 6,
     "metadata": {},
     "output_type": "execute_result"
    }
   ],
   "source": [
    "sp.LineString(c2)"
   ]
  },
  {
   "cell_type": "code",
   "execution_count": 7,
   "metadata": {},
   "outputs": [
    {
     "data": {
      "application/vnd.plotly.v1+json": {
       "config": {
        "plotlyServerURL": "https://plotly.com"
       },
       "data": [
        {
         "mode": "lines+markers",
         "name": "c1",
         "type": "scatter",
         "x": [
          -0.16666890531648415,
          -0.7173600926225443,
          -1.3509616675959775,
          -1.8816111570455845,
          -2.1536463429428077,
          -2.0872676565318327,
          -1.7019468089176126,
          -1.1107149044068436,
          -0.4870055775458443,
          -0.013779481561628004
         ],
         "y": [
          0.4597321943288722,
          0.7736742019499936,
          0.7544541052560836,
          0.40770998162511224,
          -0.16484326966213825,
          -0.7952512628824746,
          -1.2985883391242292,
          -1.5272041806888659,
          -1.4140359717592486,
          -0.9922807939543099
         ]
        },
        {
         "mode": "lines+markers",
         "name": "c2",
         "type": "scatter",
         "x": [
          -0.42073147501348085,
          -0.802944563652835,
          -1.2406783286904062,
          -1.6106005994044104,
          -1.808485199316152,
          -1.778577833900437,
          -1.5293049499884188,
          -1.1308995712361776,
          -0.6956130342170541,
          -0.3460879993434328
         ],
         "y": [
          0.22532357773771922,
          0.4390247736404284,
          0.42701655963854374,
          0.19268226874777866,
          -0.19795404724863838,
          -0.6348299973207081,
          -0.9948551014505009,
          -1.1765917252740041,
          -1.128835291703414,
          -0.8650412503490341
         ]
        },
        {
         "mode": "markers",
         "name": "extrema_0",
         "type": "scatter",
         "x": [
          0.6551724137931034
         ],
         "y": [
          -0.3620689655172414
         ]
        },
        {
         "mode": "markers",
         "name": "extrema_1",
         "type": "scatter",
         "x": [
          -1
         ],
         "y": [
          -0.3620689655172414
         ]
        },
        {
         "mode": "markers",
         "name": "extrema_2",
         "type": "scatter",
         "x": [
          -0.1724137931034483
         ],
         "y": [
          0.46551724137931033
         ]
        },
        {
         "hoverinfo": "text",
         "hovertext": [
          "0, ((-1.0, -0.362))"
         ],
         "marker": {
          "color": "blue",
          "opacity": 0.4,
          "size": 10
         },
         "mode": "markers",
         "name": "0",
         "type": "scatter",
         "x": [
          -1
         ],
         "y": [
          -0.3620689655172414
         ]
        },
        {
         "hoverinfo": "text",
         "hovertext": [
          "1, ((0.379, -0.224))"
         ],
         "marker": {
          "color": "blue",
          "opacity": 0.4,
          "size": 10
         },
         "mode": "markers",
         "name": "1",
         "type": "scatter",
         "x": [
          0.3793103448275862
         ],
         "y": [
          -0.22413793103448276
         ]
        },
        {
         "hoverinfo": "text",
         "hovertext": [
          "2, ((0.379, -0.086))"
         ],
         "marker": {
          "color": "blue",
          "opacity": 0.4,
          "size": 10
         },
         "mode": "markers",
         "name": "2",
         "type": "scatter",
         "x": [
          0.3793103448275862
         ],
         "y": [
          -0.08620689655172414
         ]
        },
        {
         "hoverinfo": "text",
         "hovertext": [
          "3, ((0.655, -0.362))"
         ],
         "marker": {
          "color": "blue",
          "opacity": 0.4,
          "size": 10
         },
         "mode": "markers",
         "name": "3",
         "type": "scatter",
         "x": [
          0.6551724137931034
         ],
         "y": [
          -0.3620689655172414
         ]
        },
        {
         "hoverinfo": "text",
         "hovertext": [
          "4, ((-0.437, 0.208))"
         ],
         "marker": {
          "color": "blue",
          "opacity": 0.4,
          "size": 10
         },
         "mode": "markers",
         "name": "4",
         "type": "scatter",
         "x": [
          -0.4374994880060456
         ],
         "y": [
          0.20832039981213785
         ]
        },
        {
         "hoverinfo": "text",
         "hovertext": [
          "5, ((-0.188, 0.439))"
         ],
         "marker": {
          "color": "blue",
          "opacity": 0.4,
          "size": 10
         },
         "mode": "markers",
         "name": "5",
         "type": "scatter",
         "x": [
          -0.1877652503477611
         ],
         "y": [
          0.43892773746193925
         ]
        },
        {
         "hoverinfo": "text",
         "hovertext": [
          "6, ((-0.034, 0.328))"
         ],
         "marker": {
          "color": "blue",
          "opacity": 0.4,
          "size": 10
         },
         "mode": "markers",
         "name": "6",
         "type": "scatter",
         "x": [
          -0.034482758620689655
         ],
         "y": [
          0.3275862068965517
         ]
        },
        {
         "hoverinfo": "text",
         "hovertext": [
          "7, ((0.241, 0.052))"
         ],
         "marker": {
          "color": "blue",
          "opacity": 0.4,
          "size": 10
         },
         "mode": "markers",
         "name": "7",
         "type": "scatter",
         "x": [
          0.24137931034482757
         ],
         "y": [
          0.05172413793103448
         ]
        },
        {
         "hoverinfo": "text",
         "hovertext": [
          "8, ((0.517, -0.224))"
         ],
         "marker": {
          "color": "blue",
          "opacity": 0.4,
          "size": 10
         },
         "mode": "markers",
         "name": "8",
         "type": "scatter",
         "x": [
          0.5172413793103448
         ],
         "y": [
          -0.22413793103448276
         ]
        },
        {
         "hoverinfo": "text",
         "hovertext": [
          "9, ((0.457, 0.543))"
         ],
         "marker": {
          "color": "blue",
          "opacity": 0.4,
          "size": 10
         },
         "mode": "markers",
         "name": "9",
         "type": "scatter",
         "x": [
          0.4570016664553428
         ],
         "y": [
          0.5432085630070669
         ]
        },
        {
         "hoverinfo": "text",
         "hovertext": [
          "10, ((-0.05, -0.969))"
         ],
         "marker": {
          "color": "blue",
          "opacity": 0.4,
          "size": 10
         },
         "mode": "markers",
         "name": "10",
         "type": "scatter",
         "x": [
          -0.05046278748348896
         ],
         "y": [
          -0.9688395322223604
         ]
        },
        {
         "hoverinfo": "text",
         "hovertext": [
          "11, ((0.94, 0.06))"
         ],
         "marker": {
          "color": "blue",
          "opacity": 0.4,
          "size": 10
         },
         "mode": "markers",
         "name": "11",
         "type": "scatter",
         "x": [
          0.9397602871449979
         ],
         "y": [
          0.06044994231741163
         ]
        },
        {
         "hoverinfo": "text",
         "hovertext": [
          "12, ((0.802, 0.198))"
         ],
         "marker": {
          "color": "blue",
          "opacity": 0.4,
          "size": 10
         },
         "mode": "markers",
         "name": "12",
         "type": "scatter",
         "x": [
          0.8018292526622394
         ],
         "y": [
          0.19838097680017025
         ]
        }
       ],
       "layout": {
        "template": {
         "data": {
          "bar": [
           {
            "error_x": {
             "color": "#2a3f5f"
            },
            "error_y": {
             "color": "#2a3f5f"
            },
            "marker": {
             "line": {
              "color": "#E5ECF6",
              "width": 0.5
             },
             "pattern": {
              "fillmode": "overlay",
              "size": 10,
              "solidity": 0.2
             }
            },
            "type": "bar"
           }
          ],
          "barpolar": [
           {
            "marker": {
             "line": {
              "color": "#E5ECF6",
              "width": 0.5
             },
             "pattern": {
              "fillmode": "overlay",
              "size": 10,
              "solidity": 0.2
             }
            },
            "type": "barpolar"
           }
          ],
          "carpet": [
           {
            "aaxis": {
             "endlinecolor": "#2a3f5f",
             "gridcolor": "white",
             "linecolor": "white",
             "minorgridcolor": "white",
             "startlinecolor": "#2a3f5f"
            },
            "baxis": {
             "endlinecolor": "#2a3f5f",
             "gridcolor": "white",
             "linecolor": "white",
             "minorgridcolor": "white",
             "startlinecolor": "#2a3f5f"
            },
            "type": "carpet"
           }
          ],
          "choropleth": [
           {
            "colorbar": {
             "outlinewidth": 0,
             "ticks": ""
            },
            "type": "choropleth"
           }
          ],
          "contour": [
           {
            "colorbar": {
             "outlinewidth": 0,
             "ticks": ""
            },
            "colorscale": [
             [
              0,
              "#0d0887"
             ],
             [
              0.1111111111111111,
              "#46039f"
             ],
             [
              0.2222222222222222,
              "#7201a8"
             ],
             [
              0.3333333333333333,
              "#9c179e"
             ],
             [
              0.4444444444444444,
              "#bd3786"
             ],
             [
              0.5555555555555556,
              "#d8576b"
             ],
             [
              0.6666666666666666,
              "#ed7953"
             ],
             [
              0.7777777777777778,
              "#fb9f3a"
             ],
             [
              0.8888888888888888,
              "#fdca26"
             ],
             [
              1,
              "#f0f921"
             ]
            ],
            "type": "contour"
           }
          ],
          "contourcarpet": [
           {
            "colorbar": {
             "outlinewidth": 0,
             "ticks": ""
            },
            "type": "contourcarpet"
           }
          ],
          "heatmap": [
           {
            "colorbar": {
             "outlinewidth": 0,
             "ticks": ""
            },
            "colorscale": [
             [
              0,
              "#0d0887"
             ],
             [
              0.1111111111111111,
              "#46039f"
             ],
             [
              0.2222222222222222,
              "#7201a8"
             ],
             [
              0.3333333333333333,
              "#9c179e"
             ],
             [
              0.4444444444444444,
              "#bd3786"
             ],
             [
              0.5555555555555556,
              "#d8576b"
             ],
             [
              0.6666666666666666,
              "#ed7953"
             ],
             [
              0.7777777777777778,
              "#fb9f3a"
             ],
             [
              0.8888888888888888,
              "#fdca26"
             ],
             [
              1,
              "#f0f921"
             ]
            ],
            "type": "heatmap"
           }
          ],
          "heatmapgl": [
           {
            "colorbar": {
             "outlinewidth": 0,
             "ticks": ""
            },
            "colorscale": [
             [
              0,
              "#0d0887"
             ],
             [
              0.1111111111111111,
              "#46039f"
             ],
             [
              0.2222222222222222,
              "#7201a8"
             ],
             [
              0.3333333333333333,
              "#9c179e"
             ],
             [
              0.4444444444444444,
              "#bd3786"
             ],
             [
              0.5555555555555556,
              "#d8576b"
             ],
             [
              0.6666666666666666,
              "#ed7953"
             ],
             [
              0.7777777777777778,
              "#fb9f3a"
             ],
             [
              0.8888888888888888,
              "#fdca26"
             ],
             [
              1,
              "#f0f921"
             ]
            ],
            "type": "heatmapgl"
           }
          ],
          "histogram": [
           {
            "marker": {
             "pattern": {
              "fillmode": "overlay",
              "size": 10,
              "solidity": 0.2
             }
            },
            "type": "histogram"
           }
          ],
          "histogram2d": [
           {
            "colorbar": {
             "outlinewidth": 0,
             "ticks": ""
            },
            "colorscale": [
             [
              0,
              "#0d0887"
             ],
             [
              0.1111111111111111,
              "#46039f"
             ],
             [
              0.2222222222222222,
              "#7201a8"
             ],
             [
              0.3333333333333333,
              "#9c179e"
             ],
             [
              0.4444444444444444,
              "#bd3786"
             ],
             [
              0.5555555555555556,
              "#d8576b"
             ],
             [
              0.6666666666666666,
              "#ed7953"
             ],
             [
              0.7777777777777778,
              "#fb9f3a"
             ],
             [
              0.8888888888888888,
              "#fdca26"
             ],
             [
              1,
              "#f0f921"
             ]
            ],
            "type": "histogram2d"
           }
          ],
          "histogram2dcontour": [
           {
            "colorbar": {
             "outlinewidth": 0,
             "ticks": ""
            },
            "colorscale": [
             [
              0,
              "#0d0887"
             ],
             [
              0.1111111111111111,
              "#46039f"
             ],
             [
              0.2222222222222222,
              "#7201a8"
             ],
             [
              0.3333333333333333,
              "#9c179e"
             ],
             [
              0.4444444444444444,
              "#bd3786"
             ],
             [
              0.5555555555555556,
              "#d8576b"
             ],
             [
              0.6666666666666666,
              "#ed7953"
             ],
             [
              0.7777777777777778,
              "#fb9f3a"
             ],
             [
              0.8888888888888888,
              "#fdca26"
             ],
             [
              1,
              "#f0f921"
             ]
            ],
            "type": "histogram2dcontour"
           }
          ],
          "mesh3d": [
           {
            "colorbar": {
             "outlinewidth": 0,
             "ticks": ""
            },
            "type": "mesh3d"
           }
          ],
          "parcoords": [
           {
            "line": {
             "colorbar": {
              "outlinewidth": 0,
              "ticks": ""
             }
            },
            "type": "parcoords"
           }
          ],
          "pie": [
           {
            "automargin": true,
            "type": "pie"
           }
          ],
          "scatter": [
           {
            "fillpattern": {
             "fillmode": "overlay",
             "size": 10,
             "solidity": 0.2
            },
            "type": "scatter"
           }
          ],
          "scatter3d": [
           {
            "line": {
             "colorbar": {
              "outlinewidth": 0,
              "ticks": ""
             }
            },
            "marker": {
             "colorbar": {
              "outlinewidth": 0,
              "ticks": ""
             }
            },
            "type": "scatter3d"
           }
          ],
          "scattercarpet": [
           {
            "marker": {
             "colorbar": {
              "outlinewidth": 0,
              "ticks": ""
             }
            },
            "type": "scattercarpet"
           }
          ],
          "scattergeo": [
           {
            "marker": {
             "colorbar": {
              "outlinewidth": 0,
              "ticks": ""
             }
            },
            "type": "scattergeo"
           }
          ],
          "scattergl": [
           {
            "marker": {
             "colorbar": {
              "outlinewidth": 0,
              "ticks": ""
             }
            },
            "type": "scattergl"
           }
          ],
          "scattermapbox": [
           {
            "marker": {
             "colorbar": {
              "outlinewidth": 0,
              "ticks": ""
             }
            },
            "type": "scattermapbox"
           }
          ],
          "scatterpolar": [
           {
            "marker": {
             "colorbar": {
              "outlinewidth": 0,
              "ticks": ""
             }
            },
            "type": "scatterpolar"
           }
          ],
          "scatterpolargl": [
           {
            "marker": {
             "colorbar": {
              "outlinewidth": 0,
              "ticks": ""
             }
            },
            "type": "scatterpolargl"
           }
          ],
          "scatterternary": [
           {
            "marker": {
             "colorbar": {
              "outlinewidth": 0,
              "ticks": ""
             }
            },
            "type": "scatterternary"
           }
          ],
          "surface": [
           {
            "colorbar": {
             "outlinewidth": 0,
             "ticks": ""
            },
            "colorscale": [
             [
              0,
              "#0d0887"
             ],
             [
              0.1111111111111111,
              "#46039f"
             ],
             [
              0.2222222222222222,
              "#7201a8"
             ],
             [
              0.3333333333333333,
              "#9c179e"
             ],
             [
              0.4444444444444444,
              "#bd3786"
             ],
             [
              0.5555555555555556,
              "#d8576b"
             ],
             [
              0.6666666666666666,
              "#ed7953"
             ],
             [
              0.7777777777777778,
              "#fb9f3a"
             ],
             [
              0.8888888888888888,
              "#fdca26"
             ],
             [
              1,
              "#f0f921"
             ]
            ],
            "type": "surface"
           }
          ],
          "table": [
           {
            "cells": {
             "fill": {
              "color": "#EBF0F8"
             },
             "line": {
              "color": "white"
             }
            },
            "header": {
             "fill": {
              "color": "#C8D4E3"
             },
             "line": {
              "color": "white"
             }
            },
            "type": "table"
           }
          ]
         },
         "layout": {
          "annotationdefaults": {
           "arrowcolor": "#2a3f5f",
           "arrowhead": 0,
           "arrowwidth": 1
          },
          "autotypenumbers": "strict",
          "coloraxis": {
           "colorbar": {
            "outlinewidth": 0,
            "ticks": ""
           }
          },
          "colorscale": {
           "diverging": [
            [
             0,
             "#8e0152"
            ],
            [
             0.1,
             "#c51b7d"
            ],
            [
             0.2,
             "#de77ae"
            ],
            [
             0.3,
             "#f1b6da"
            ],
            [
             0.4,
             "#fde0ef"
            ],
            [
             0.5,
             "#f7f7f7"
            ],
            [
             0.6,
             "#e6f5d0"
            ],
            [
             0.7,
             "#b8e186"
            ],
            [
             0.8,
             "#7fbc41"
            ],
            [
             0.9,
             "#4d9221"
            ],
            [
             1,
             "#276419"
            ]
           ],
           "sequential": [
            [
             0,
             "#0d0887"
            ],
            [
             0.1111111111111111,
             "#46039f"
            ],
            [
             0.2222222222222222,
             "#7201a8"
            ],
            [
             0.3333333333333333,
             "#9c179e"
            ],
            [
             0.4444444444444444,
             "#bd3786"
            ],
            [
             0.5555555555555556,
             "#d8576b"
            ],
            [
             0.6666666666666666,
             "#ed7953"
            ],
            [
             0.7777777777777778,
             "#fb9f3a"
            ],
            [
             0.8888888888888888,
             "#fdca26"
            ],
            [
             1,
             "#f0f921"
            ]
           ],
           "sequentialminus": [
            [
             0,
             "#0d0887"
            ],
            [
             0.1111111111111111,
             "#46039f"
            ],
            [
             0.2222222222222222,
             "#7201a8"
            ],
            [
             0.3333333333333333,
             "#9c179e"
            ],
            [
             0.4444444444444444,
             "#bd3786"
            ],
            [
             0.5555555555555556,
             "#d8576b"
            ],
            [
             0.6666666666666666,
             "#ed7953"
            ],
            [
             0.7777777777777778,
             "#fb9f3a"
            ],
            [
             0.8888888888888888,
             "#fdca26"
            ],
            [
             1,
             "#f0f921"
            ]
           ]
          },
          "colorway": [
           "#636efa",
           "#EF553B",
           "#00cc96",
           "#ab63fa",
           "#FFA15A",
           "#19d3f3",
           "#FF6692",
           "#B6E880",
           "#FF97FF",
           "#FECB52"
          ],
          "font": {
           "color": "#2a3f5f"
          },
          "geo": {
           "bgcolor": "white",
           "lakecolor": "white",
           "landcolor": "#E5ECF6",
           "showlakes": true,
           "showland": true,
           "subunitcolor": "white"
          },
          "hoverlabel": {
           "align": "left"
          },
          "hovermode": "closest",
          "mapbox": {
           "style": "light"
          },
          "paper_bgcolor": "white",
          "plot_bgcolor": "#E5ECF6",
          "polar": {
           "angularaxis": {
            "gridcolor": "white",
            "linecolor": "white",
            "ticks": ""
           },
           "bgcolor": "#E5ECF6",
           "radialaxis": {
            "gridcolor": "white",
            "linecolor": "white",
            "ticks": ""
           }
          },
          "scene": {
           "xaxis": {
            "backgroundcolor": "#E5ECF6",
            "gridcolor": "white",
            "gridwidth": 2,
            "linecolor": "white",
            "showbackground": true,
            "ticks": "",
            "zerolinecolor": "white"
           },
           "yaxis": {
            "backgroundcolor": "#E5ECF6",
            "gridcolor": "white",
            "gridwidth": 2,
            "linecolor": "white",
            "showbackground": true,
            "ticks": "",
            "zerolinecolor": "white"
           },
           "zaxis": {
            "backgroundcolor": "#E5ECF6",
            "gridcolor": "white",
            "gridwidth": 2,
            "linecolor": "white",
            "showbackground": true,
            "ticks": "",
            "zerolinecolor": "white"
           }
          },
          "shapedefaults": {
           "line": {
            "color": "#2a3f5f"
           }
          },
          "ternary": {
           "aaxis": {
            "gridcolor": "white",
            "linecolor": "white",
            "ticks": ""
           },
           "baxis": {
            "gridcolor": "white",
            "linecolor": "white",
            "ticks": ""
           },
           "bgcolor": "#E5ECF6",
           "caxis": {
            "gridcolor": "white",
            "linecolor": "white",
            "ticks": ""
           }
          },
          "title": {
           "x": 0.05
          },
          "xaxis": {
           "automargin": true,
           "gridcolor": "white",
           "linecolor": "white",
           "ticks": "",
           "title": {
            "standoff": 15
           },
           "zerolinecolor": "white",
           "zerolinewidth": 2
          },
          "yaxis": {
           "automargin": true,
           "gridcolor": "white",
           "linecolor": "white",
           "ticks": "",
           "title": {
            "standoff": 15
           },
           "zerolinecolor": "white",
           "zerolinewidth": 2
          }
         }
        }
       }
      }
     },
     "metadata": {},
     "output_type": "display_data"
    }
   ],
   "source": [
    "x,y = points_to_plot(c1)\n",
    "fig = quick_plotly_plot(x,y, \"c1\", \"lines+markers\")\n",
    "\n",
    "fig = add_geom_to_plotly(sp.LineString(c2), fig, \"c2\", \"lines+markers\" )\n",
    "\n",
    "# fig = add_geom_to_plotly(shape.boundary, fig, \"shape\", \"lines+markers\" )\n",
    "\n",
    "for ix, e in enumerate(cm.extrema):\n",
    "    fig = add_geom_to_plotly(e, fig, f\"extrema_{ix}\")\n",
    "\n",
    "fig = add_embedding_to_plotly(cm.embed, fig )\n",
    "\n",
    "fig.show()\n"
   ]
  },
  {
   "cell_type": "code",
   "execution_count": 14,
   "metadata": {},
   "outputs": [
    {
     "data": {
      "text/plain": [
       "[(-0.4482758620689655, 0.1896551724137931),\n",
       " (-0.1724137931034483, 0.46551724137931033),\n",
       " (-0.34381250856817736, -0.8620689655172413)]"
      ]
     },
     "execution_count": 14,
     "metadata": {},
     "output_type": "execute_result"
    }
   ],
   "source": [
    "pt_coords = [tuple(a) for a in get_emedding_coords(locs.embed, [4,5,10])]\n",
    "pt_coords"
   ]
  },
  {
   "cell_type": "code",
   "execution_count": 17,
   "metadata": {},
   "outputs": [
    {
     "data": {
      "image/svg+xml": [
       "<svg xmlns=\"http://www.w3.org/2000/svg\" xmlns:xlink=\"http://www.w3.org/1999/xlink\" width=\"100.0\" height=\"100.0\" viewBox=\"-2.245681478248362 -1.6192393159944203 2.3239371319922886 2.484948653249968\" preserveAspectRatio=\"xMinYMin meet\"><g transform=\"matrix(1,0,0,-1,0,-0.7535299787388723)\"><g><circle cx=\"-0.16666890531648415\" cy=\"0.4597321943288722\" r=\"0.07454845959749903\" stroke=\"#555555\" stroke-width=\"0.02484948653249968\" fill=\"#66cc99\" opacity=\"0.6\" /><circle cx=\"-0.7173600926225443\" cy=\"0.7736742019499936\" r=\"0.07454845959749903\" stroke=\"#555555\" stroke-width=\"0.02484948653249968\" fill=\"#66cc99\" opacity=\"0.6\" /><circle cx=\"-1.3509616675959775\" cy=\"0.7544541052560836\" r=\"0.07454845959749903\" stroke=\"#555555\" stroke-width=\"0.02484948653249968\" fill=\"#66cc99\" opacity=\"0.6\" /><circle cx=\"-1.8816111570455845\" cy=\"0.40770998162511224\" r=\"0.07454845959749903\" stroke=\"#555555\" stroke-width=\"0.02484948653249968\" fill=\"#66cc99\" opacity=\"0.6\" /><circle cx=\"-2.1536463429428077\" cy=\"-0.16484326966213825\" r=\"0.07454845959749903\" stroke=\"#555555\" stroke-width=\"0.02484948653249968\" fill=\"#66cc99\" opacity=\"0.6\" /><circle cx=\"-2.0872676565318327\" cy=\"-0.7952512628824746\" r=\"0.07454845959749903\" stroke=\"#555555\" stroke-width=\"0.02484948653249968\" fill=\"#66cc99\" opacity=\"0.6\" /><circle cx=\"-1.7019468089176126\" cy=\"-1.2985883391242292\" r=\"0.07454845959749903\" stroke=\"#555555\" stroke-width=\"0.02484948653249968\" fill=\"#66cc99\" opacity=\"0.6\" /><circle cx=\"-1.1107149044068436\" cy=\"-1.5272041806888659\" r=\"0.07454845959749903\" stroke=\"#555555\" stroke-width=\"0.02484948653249968\" fill=\"#66cc99\" opacity=\"0.6\" /><circle cx=\"-0.4870055775458443\" cy=\"-1.4140359717592486\" r=\"0.07454845959749903\" stroke=\"#555555\" stroke-width=\"0.02484948653249968\" fill=\"#66cc99\" opacity=\"0.6\" /><circle cx=\"-0.013779481561628004\" cy=\"-0.9922807939543099\" r=\"0.07454845959749903\" stroke=\"#555555\" stroke-width=\"0.02484948653249968\" fill=\"#66cc99\" opacity=\"0.6\" /><circle cx=\"-0.42073147501348085\" cy=\"0.22532357773771922\" r=\"0.07454845959749903\" stroke=\"#555555\" stroke-width=\"0.02484948653249968\" fill=\"#66cc99\" opacity=\"0.6\" /><circle cx=\"-0.802944563652835\" cy=\"0.4390247736404284\" r=\"0.07454845959749903\" stroke=\"#555555\" stroke-width=\"0.02484948653249968\" fill=\"#66cc99\" opacity=\"0.6\" /><circle cx=\"-1.2406783286904062\" cy=\"0.42701655963854374\" r=\"0.07454845959749903\" stroke=\"#555555\" stroke-width=\"0.02484948653249968\" fill=\"#66cc99\" opacity=\"0.6\" /><circle cx=\"-1.6106005994044104\" cy=\"0.19268226874777866\" r=\"0.07454845959749903\" stroke=\"#555555\" stroke-width=\"0.02484948653249968\" fill=\"#66cc99\" opacity=\"0.6\" /><circle cx=\"-1.808485199316152\" cy=\"-0.19795404724863838\" r=\"0.07454845959749903\" stroke=\"#555555\" stroke-width=\"0.02484948653249968\" fill=\"#66cc99\" opacity=\"0.6\" /><circle cx=\"-1.778577833900437\" cy=\"-0.6348299973207081\" r=\"0.07454845959749903\" stroke=\"#555555\" stroke-width=\"0.02484948653249968\" fill=\"#66cc99\" opacity=\"0.6\" /><circle cx=\"-1.5293049499884188\" cy=\"-0.9948551014505009\" r=\"0.07454845959749903\" stroke=\"#555555\" stroke-width=\"0.02484948653249968\" fill=\"#66cc99\" opacity=\"0.6\" /><circle cx=\"-1.1308995712361776\" cy=\"-1.1765917252740041\" r=\"0.07454845959749903\" stroke=\"#555555\" stroke-width=\"0.02484948653249968\" fill=\"#66cc99\" opacity=\"0.6\" /><circle cx=\"-0.6956130342170541\" cy=\"-1.128835291703414\" r=\"0.07454845959749903\" stroke=\"#555555\" stroke-width=\"0.02484948653249968\" fill=\"#66cc99\" opacity=\"0.6\" /><circle cx=\"-0.3460879993434328\" cy=\"-0.8650412503490341\" r=\"0.07454845959749903\" stroke=\"#555555\" stroke-width=\"0.02484948653249968\" fill=\"#66cc99\" opacity=\"0.6\" /><circle cx=\"-0.4482758620689655\" cy=\"0.1896551724137931\" r=\"0.07454845959749903\" stroke=\"#555555\" stroke-width=\"0.02484948653249968\" fill=\"#66cc99\" opacity=\"0.6\" /><circle cx=\"-0.1724137931034483\" cy=\"0.46551724137931033\" r=\"0.07454845959749903\" stroke=\"#555555\" stroke-width=\"0.02484948653249968\" fill=\"#66cc99\" opacity=\"0.6\" /><circle cx=\"-0.34381250856817736\" cy=\"-0.8620689655172413\" r=\"0.07454845959749903\" stroke=\"#555555\" stroke-width=\"0.02484948653249968\" fill=\"#66cc99\" opacity=\"0.6\" /></g></g></svg>"
      ],
      "text/plain": [
       "<MULTIPOINT (-0.167 0.46, -0.717 0.774, -1.351 0.754, -1.882 0.408, -2.154 -...>"
      ]
     },
     "execution_count": 17,
     "metadata": {},
     "output_type": "execute_result"
    }
   ],
   "source": [
    "mpt = sp.MultiPoint(c1 + c2 + pt_coords)\n",
    "mpt"
   ]
  },
  {
   "cell_type": "code",
   "execution_count": 18,
   "metadata": {},
   "outputs": [
    {
     "data": {
      "image/svg+xml": [
       "<svg xmlns=\"http://www.w3.org/2000/svg\" xmlns:xlink=\"http://www.w3.org/1999/xlink\" width=\"100.0\" height=\"100.0\" viewBox=\"-2.245681478248362 -1.6192393159944203 2.3239371319922886 2.484948653249968\" preserveAspectRatio=\"xMinYMin meet\"><g transform=\"matrix(1,0,0,-1,0,-0.7535299787388723)\"><path fill-rule=\"evenodd\" fill=\"#66cc99\" stroke=\"#555555\" stroke-width=\"0.04969897306499936\" opacity=\"0.6\" d=\"M -1.1107149044068436,-1.5272041806888659 L -1.7019468089176126,-1.2985883391242292 L -2.0872676565318327,-0.7952512628824746 L -2.1536463429428077,-0.16484326966213825 L -1.8816111570455845,0.40770998162511224 L -1.3509616675959775,0.7544541052560836 L -0.7173600926225443,0.7736742019499936 L -0.1724137931034483,0.46551724137931033 L -0.16666890531648415,0.4597321943288722 L -0.013779481561628004,-0.9922807939543099 L -0.4870055775458443,-1.4140359717592486 L -1.1107149044068436,-1.5272041806888659 z\" /></g></svg>"
      ],
      "text/plain": [
       "<POLYGON ((-1.111 -1.527, -1.702 -1.299, -2.087 -0.795, -2.154 -0.165, -1.88...>"
      ]
     },
     "execution_count": 18,
     "metadata": {},
     "output_type": "execute_result"
    }
   ],
   "source": [
    "mpt.convex_hull"
   ]
  },
  {
   "cell_type": "code",
   "execution_count": 10,
   "metadata": {},
   "outputs": [
    {
     "data": {
      "image/svg+xml": [
       "<svg xmlns=\"http://www.w3.org/2000/svg\" xmlns:xlink=\"http://www.w3.org/1999/xlink\" width=\"100.0\" height=\"100.0\" viewBox=\"-2.245681478248362 -1.6192393159944203 2.3239371319922886 2.484948653249968\" preserveAspectRatio=\"xMinYMin meet\"><g transform=\"matrix(1,0,0,-1,0,-0.7535299787388723)\"><polyline fill=\"none\" stroke=\"#ff3333\" stroke-width=\"0.04969897306499936\" points=\"-0.16666890531648415,0.4597321943288722 -0.7173600926225443,0.7736742019499936 -1.3509616675959775,0.7544541052560836 -1.8816111570455845,0.40770998162511224 -2.1536463429428077,-0.16484326966213825 -2.0872676565318327,-0.7952512628824746 -1.7019468089176126,-1.2985883391242292 -1.1107149044068436,-1.5272041806888659 -0.4870055775458443,-1.4140359717592486 -0.013779481561628004,-0.9922807939543099 -0.42073147501348085,0.22532357773771922 -0.802944563652835,0.4390247736404284 -1.2406783286904062,0.42701655963854374 -1.6106005994044104,0.19268226874777866 -1.808485199316152,-0.19795404724863838 -1.778577833900437,-0.6348299973207081 -1.5293049499884188,-0.9948551014505009 -1.1308995712361776,-1.1765917252740041 -0.6956130342170541,-1.128835291703414 -0.3460879993434328,-0.8650412503490341 -0.16666890531648415,0.4597321943288722\" opacity=\"0.8\" /></g></svg>"
      ],
      "text/plain": [
       "<LINEARRING (-0.167 0.46, -0.717 0.774, -1.351 0.754, -1.882 0.408, -2.154 -...>"
      ]
     },
     "execution_count": 10,
     "metadata": {},
     "output_type": "execute_result"
    }
   ],
   "source": [
    "joined = c1 + c2\n",
    "sp.LinearRing(joined)"
   ]
  }
 ],
 "metadata": {
  "kernelspec": {
   "display_name": "gqenv",
   "language": "python",
   "name": "python3"
  },
  "language_info": {
   "codemirror_mode": {
    "name": "ipython",
    "version": 3
   },
   "file_extension": ".py",
   "mimetype": "text/x-python",
   "name": "python",
   "nbconvert_exporter": "python",
   "pygments_lexer": "ipython3",
   "version": "3.9.15"
  }
 },
 "nbformat": 4,
 "nbformat_minor": 2
}
