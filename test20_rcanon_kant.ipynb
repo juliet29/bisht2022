{
 "cells": [
  {
   "cell_type": "code",
   "execution_count": 1,
   "metadata": {},
   "outputs": [],
   "source": [
    "from helpers import * \n",
    "\n",
    "from four_complete import *\n",
    "from four_complete_locations import *\n",
    "from graph_checks import *\n",
    "\n",
    "from canonical_order import *\n",
    "\n",
    "from canonical_order_kant import *"
   ]
  },
  {
   "cell_type": "code",
   "execution_count": 2,
   "metadata": {},
   "outputs": [],
   "source": [
    "bottom_data = get_saved_graph_data(\"BOTTOM\")\n",
    "side_data = get_saved_graph_data()\n",
    "\n",
    "graph_data = bottom_data"
   ]
  },
  {
   "cell_type": "code",
   "execution_count": null,
   "metadata": {},
   "outputs": [],
   "source": []
  },
  {
   "cell_type": "code",
   "execution_count": 3,
   "metadata": {},
   "outputs": [
    {
     "name": "stderr",
     "output_type": "stream",
     "text": [
      "ic| 'found cips - contains'\n",
      "ic| 'found cips - contains reverse'\n",
      "ic| 'found cips - contains reverse'\n",
      "ic| 'found cips - contains reverse'\n",
      "ic| o: 1, direction: <CardinalDirections.SOUTH: 0>, ix: 10\n",
      "ic| o: 2, direction: <CardinalDirections.WEST: 1>, ix: 11\n",
      "ic| o: 3, direction: <CardinalDirections.NORTH: 2>, ix: 12\n",
      "ic| o: 0, direction: <CardinalDirections.EAST: 3>, ix: 9\n"
     ]
    }
   ],
   "source": [
    "f = FourComplete(graph_data)\n",
    "f.get_boundary_cyle()\n",
    "f.generate_dividing_indices()\n",
    "f.divide_boundary_cycle()\n",
    "f.ensure_no_cips()\n",
    "f.paths\n",
    "\n",
    "b = BoundaryCycle(copy.deepcopy(graph_data))\n",
    "locs = FourCompleteLocations(copy.deepcopy(graph_data), f.boundary, f.paths, b.boundary_line_string)\n",
    "locs.run()\n",
    "locs.connect_outer_nodes() "
   ]
  },
  {
   "cell_type": "code",
   "execution_count": 4,
   "metadata": {},
   "outputs": [
    {
     "data": {
      "text/plain": [
       "[CornerNode({'neighbour_indices': [5, 4, 0, 8], 'name': <CardinalDirections.EAST: 3>, 'index': 9, 'location': (-1.0254596448773625, 0.3195781707919437), 'mean_location': None}),\n",
       " CornerNode({'neighbour_indices': [8, 3, 2, 7], 'name': <CardinalDirections.SOUTH: 0>, 'index': 10, 'location': (0.3270786680771922, -0.8620689655172413), 'mean_location': None}),\n",
       " CornerNode({'neighbour_indices': [7, 6], 'name': <CardinalDirections.WEST: 1>, 'index': 11, 'location': (0.4570016664553428, 0.5432085630070669), 'mean_location': None}),\n",
       " CornerNode({'neighbour_indices': [6, 5], 'name': <CardinalDirections.NORTH: 2>, 'index': 12, 'location': (0.25010511473120484, 0.7501051147312048), 'mean_location': None})]"
      ]
     },
     "execution_count": 4,
     "metadata": {},
     "output_type": "execute_result"
    }
   ],
   "source": [
    "locs.corner_node_list"
   ]
  },
  {
   "cell_type": "code",
   "execution_count": 5,
   "metadata": {},
   "outputs": [],
   "source": [
    "class NodeCanonicalOrder:\n",
    "    def __init__(self) -> None:\n",
    "        self.index = -100 # node index in the graph .. \n",
    "        self.mark = False\n",
    "        self.visited = 0\n",
    "        self.chords = -100\n",
    "\n",
    "    # TODO RENAME THIS!!\n",
    "\n",
    "    def __repr__(self):\n",
    "        return f\"Node_{self.index}_CanonicalOrder({self.__dict__})\"\n",
    "    \n",
    "    def update_mark(self):\n",
    "        self.mark = True\n",
    "    \n",
    "    def update_visited(self):\n",
    "        # find this nodes neighbours, and count the number where visited is true \n",
    "        pass\n",
    "\n",
    "    def update_chords(self):\n",
    "        # need to have the exterior face of subgraph induced by V- {u < V | Mark(u) == true}\n",
    "        # need to see the chords within this graph \n",
    "        # need to see the number indicdent to this node \n",
    "        pass"
   ]
  },
  {
   "cell_type": "code",
   "execution_count": 6,
   "metadata": {},
   "outputs": [
    {
     "name": "stdout",
     "output_type": "stream",
     "text": [
      "CardinalDirections.SOUTH\n",
      "CardinalDirections.WEST\n",
      "CardinalDirections.NORTH\n",
      "CardinalDirections.EAST\n"
     ]
    }
   ],
   "source": [
    "for c in CardinalDirections:\n",
    "    print(c)"
   ]
  }
 ],
 "metadata": {
  "kernelspec": {
   "display_name": "gqenv",
   "language": "python",
   "name": "python3"
  },
  "language_info": {
   "codemirror_mode": {
    "name": "ipython",
    "version": 3
   },
   "file_extension": ".py",
   "mimetype": "text/x-python",
   "name": "python",
   "nbconvert_exporter": "python",
   "pygments_lexer": "ipython3",
   "version": "3.9.15"
  }
 },
 "nbformat": 4,
 "nbformat_minor": 2
}
