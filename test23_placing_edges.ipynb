{
 "cells": [
  {
   "cell_type": "code",
   "execution_count": 1,
   "metadata": {},
   "outputs": [
    {
     "name": "stderr",
     "output_type": "stream",
     "text": [
      "ic| o: 1, direction: <CardinalDirections.SOUTH: 0>, ix: 10\n",
      "ic| o: 2, direction: <CardinalDirections.WEST: 1>, ix: 11\n",
      "ic| o: 3, direction: <CardinalDirections.NORTH: 2>, ix: 12\n",
      "ic| o: 0, direction: <CardinalDirections.EAST: 3>, ix: 9\n",
      "ic| math.degrees(radians): 45.39897143118667\n",
      "ic| math.degrees(radians): 322.4334418366985\n",
      "ic| self.guiding_circle_center: <POINT (-1 -0.362)>\n",
      "ic| f\" extrema {ix} is too close to edge's vertex\": \" extrema 2 is too close to edge's vertex\"\n",
      "ic| math.degrees(radians): 44.60087424028278\n",
      "ic| math.degrees(radians): 327.4207243567087\n",
      "ic| self.guiding_circle_center: <POINT (-1 -0.362)>\n"
     ]
    }
   ],
   "source": [
    "from placing_edges import *\n",
    "from simplify_by_angle import *"
   ]
  },
  {
   "cell_type": "code",
   "execution_count": null,
   "metadata": {},
   "outputs": [],
   "source": [
    "\n"
   ]
  },
  {
   "cell_type": "code",
   "execution_count": 2,
   "metadata": {},
   "outputs": [
    {
     "data": {
      "text/plain": [
       "2"
      ]
     },
     "execution_count": 2,
     "metadata": {},
     "output_type": "execute_result"
    }
   ],
   "source": [
    "cm.index"
   ]
  },
  {
   "cell_type": "code",
   "execution_count": 3,
   "metadata": {},
   "outputs": [
    {
     "data": {
      "text/plain": [
       "(array('d', [-1.0]), array('d', [-0.3620689655172414]))"
      ]
     },
     "execution_count": 3,
     "metadata": {},
     "output_type": "execute_result"
    }
   ],
   "source": [
    "cm.guiding_circle_center.xy"
   ]
  },
  {
   "cell_type": "code",
   "execution_count": 4,
   "metadata": {},
   "outputs": [
    {
     "data": {
      "text/plain": [
       "{0: array([-1.        , -0.36206897]),\n",
       " 1: array([ 0.37931034, -0.22413793]),\n",
       " 2: array([ 0.37931034, -0.0862069 ]),\n",
       " 3: array([ 0.65517241, -0.36206897]),\n",
       " 4: array([-0.43749949,  0.2083204 ]),\n",
       " 5: array([-0.18776525,  0.43892774]),\n",
       " 6: array([-0.03448276,  0.32758621]),\n",
       " 7: array([0.24137931, 0.05172414]),\n",
       " 8: array([ 0.51724138, -0.22413793]),\n",
       " 9: array([0.45700167, 0.54320856]),\n",
       " 10: array([-0.05046279, -0.96883953]),\n",
       " 11: array([0.93976029, 0.06044994]),\n",
       " 12: array([0.80182925, 0.19838098])}"
      ]
     },
     "execution_count": 4,
     "metadata": {},
     "output_type": "execute_result"
    }
   ],
   "source": [
    "cm.embed"
   ]
  },
  {
   "cell_type": "code",
   "execution_count": 5,
   "metadata": {},
   "outputs": [
    {
     "name": "stderr",
     "output_type": "stream",
     "text": [
      "ic| pair: []\n",
      "ic| pair: []\n",
      "ic| pair: []\n",
      "ic| pair: []\n",
      "ic| pair: []\n",
      "ic| pair: [(4, 10)]\n",
      "ic| pair: []\n",
      "ic| pair: []\n",
      "ic| pair: []\n",
      "ic| pair: []\n",
      "ic| pair: []\n",
      "ic| pair: []\n",
      "ic| pair: [(5, 10), (4, 10)]\n",
      "ic| pair: []\n",
      "ic| pair: []\n",
      "ic| pair: []\n"
     ]
    }
   ],
   "source": [
    "inner_faces = {}\n",
    "for ix, c in enumerate(nx.simple_cycles(G=cm.G, length_bound=3)):\n",
    "    pair = find_irregular_cycle(c)\n",
    "    ic(pair)\n",
    "    if pair:\n",
    "        ring = prepare_to_create_ring(c, pair)\n",
    "    else:\n",
    "        ring = sp.LinearRing(get_emedding_coords(cm.embed, c)),\n",
    "    inner_faces[ix] = {\n",
    "        \"cycle\": c,\n",
    "        \"shape\": ring,\n",
    "    }"
   ]
  },
  {
   "cell_type": "code",
   "execution_count": 6,
   "metadata": {},
   "outputs": [],
   "source": [
    "c1, c2 = inner_faces[12][\"shape\"]"
   ]
  },
  {
   "cell_type": "code",
   "execution_count": 7,
   "metadata": {},
   "outputs": [
    {
     "data": {
      "image/svg+xml": [
       "<svg xmlns=\"http://www.w3.org/2000/svg\" xmlns:xlink=\"http://www.w3.org/1999/xlink\" width=\"100.0\" height=\"100.0\" viewBox=\"-2.245681478248362 -1.6192393159944203 2.3239371319922886 2.484948653249968\" preserveAspectRatio=\"xMinYMin meet\"><g transform=\"matrix(1,0,0,-1,0,-0.7535299787388723)\"><polyline fill=\"none\" stroke=\"#66cc99\" stroke-width=\"0.04969897306499936\" points=\"-0.16666890531648415,0.4597321943288722 -0.7173600926225443,0.7736742019499936 -1.3509616675959775,0.7544541052560836 -1.8816111570455845,0.40770998162511224 -2.1536463429428077,-0.16484326966213825 -2.0872676565318327,-0.7952512628824746 -1.7019468089176126,-1.2985883391242292 -1.1107149044068436,-1.5272041806888659 -0.4870055775458443,-1.4140359717592486 -0.013779481561628004,-0.9922807939543099\" opacity=\"0.8\" /></g></svg>"
      ],
      "text/plain": [
       "<LINESTRING (-0.167 0.46, -0.717 0.774, -1.351 0.754, -1.882 0.408, -2.154 -...>"
      ]
     },
     "execution_count": 7,
     "metadata": {},
     "output_type": "execute_result"
    }
   ],
   "source": [
    "sp.LineString(c1)"
   ]
  },
  {
   "cell_type": "code",
   "execution_count": 8,
   "metadata": {},
   "outputs": [
    {
     "data": {
      "image/svg+xml": [
       "<svg xmlns=\"http://www.w3.org/2000/svg\" xmlns:xlink=\"http://www.w3.org/1999/xlink\" width=\"100.0\" height=\"100.0\" viewBox=\"-1.8731098592727293 -1.2412163852305815 1.5916465198858738 1.7448658188275874\" preserveAspectRatio=\"xMinYMin meet\"><g transform=\"matrix(1,0,0,-1,0,-0.7375669516335758)\"><polyline fill=\"none\" stroke=\"#66cc99\" stroke-width=\"0.034897316376551746\" points=\"-0.42073147501348085,0.22532357773771922 -0.802944563652835,0.4390247736404284 -1.2406783286904062,0.42701655963854374 -1.6106005994044104,0.19268226874777866 -1.808485199316152,-0.19795404724863838 -1.778577833900437,-0.6348299973207081 -1.5293049499884188,-0.9948551014505009 -1.1308995712361776,-1.1765917252740041 -0.6956130342170541,-1.128835291703414 -0.3460879993434328,-0.8650412503490341\" opacity=\"0.8\" /></g></svg>"
      ],
      "text/plain": [
       "<LINESTRING (-0.421 0.225, -0.803 0.439, -1.241 0.427, -1.611 0.193, -1.808 ...>"
      ]
     },
     "execution_count": 8,
     "metadata": {},
     "output_type": "execute_result"
    }
   ],
   "source": [
    "sp.LineString(c2)"
   ]
  },
  {
   "cell_type": "code",
   "execution_count": 9,
   "metadata": {},
   "outputs": [
    {
     "data": {
      "text/plain": [
       "[(4, 10)]"
      ]
     },
     "execution_count": 9,
     "metadata": {},
     "output_type": "execute_result"
    }
   ],
   "source": [
    "cm.crossing_edges[0:1]"
   ]
  },
  {
   "cell_type": "code",
   "execution_count": 10,
   "metadata": {},
   "outputs": [
    {
     "data": {
      "text/plain": [
       "[<POINT (0.655 -0.362)>, <POINT (-1 -0.362)>, <POINT (-0.172 0.466)>]"
      ]
     },
     "execution_count": 10,
     "metadata": {},
     "output_type": "execute_result"
    }
   ],
   "source": [
    "cm.extrema"
   ]
  },
  {
   "cell_type": "code",
   "execution_count": 11,
   "metadata": {},
   "outputs": [
    {
     "data": {
      "text/plain": [
       "[(0.6551724137931034, -0.3620689655172414),\n",
       " (-1.0, -0.3620689655172414),\n",
       " (-0.1724137931034483, 0.46551724137931033)]"
      ]
     },
     "execution_count": 11,
     "metadata": {},
     "output_type": "execute_result"
    }
   ],
   "source": [
    "shape = simplify_by_angle(sp.Polygon(b.boundary_line_string))\n",
    "[c for c in shape.boundary.coords][0:-1]"
   ]
  },
  {
   "cell_type": "code",
   "execution_count": null,
   "metadata": {},
   "outputs": [],
   "source": []
  },
  {
   "cell_type": "code",
   "execution_count": 12,
   "metadata": {},
   "outputs": [
    {
     "data": {
      "application/vnd.plotly.v1+json": {
       "config": {
        "plotlyServerURL": "https://plotly.com"
       },
       "data": [
        {
         "mode": "lines+markers",
         "name": "c1",
         "type": "scatter",
         "x": [
          -0.16666890531648415,
          -0.7173600926225443,
          -1.3509616675959775,
          -1.8816111570455845,
          -2.1536463429428077,
          -2.0872676565318327,
          -1.7019468089176126,
          -1.1107149044068436,
          -0.4870055775458443,
          -0.013779481561628004
         ],
         "y": [
          0.4597321943288722,
          0.7736742019499936,
          0.7544541052560836,
          0.40770998162511224,
          -0.16484326966213825,
          -0.7952512628824746,
          -1.2985883391242292,
          -1.5272041806888659,
          -1.4140359717592486,
          -0.9922807939543099
         ]
        },
        {
         "mode": "lines+markers",
         "name": "c2",
         "type": "scatter",
         "x": [
          -0.42073147501348085,
          -0.802944563652835,
          -1.2406783286904062,
          -1.6106005994044104,
          -1.808485199316152,
          -1.778577833900437,
          -1.5293049499884188,
          -1.1308995712361776,
          -0.6956130342170541,
          -0.3460879993434328
         ],
         "y": [
          0.22532357773771922,
          0.4390247736404284,
          0.42701655963854374,
          0.19268226874777866,
          -0.19795404724863838,
          -0.6348299973207081,
          -0.9948551014505009,
          -1.1765917252740041,
          -1.128835291703414,
          -0.8650412503490341
         ]
        },
        {
         "mode": "lines+markers",
         "name": "shape",
         "type": "scatter",
         "x": [
          0.6551724137931034,
          -1,
          -0.1724137931034483,
          0.6551724137931034
         ],
         "y": [
          -0.3620689655172414,
          -0.3620689655172414,
          0.46551724137931033,
          -0.3620689655172414
         ]
        },
        {
         "mode": "markers",
         "name": "extrema_0",
         "type": "scatter",
         "x": [
          0.6551724137931034
         ],
         "y": [
          -0.3620689655172414
         ]
        },
        {
         "mode": "markers",
         "name": "extrema_1",
         "type": "scatter",
         "x": [
          -1
         ],
         "y": [
          -0.3620689655172414
         ]
        },
        {
         "mode": "markers",
         "name": "extrema_2",
         "type": "scatter",
         "x": [
          -0.1724137931034483
         ],
         "y": [
          0.46551724137931033
         ]
        },
        {
         "hoverinfo": "text",
         "hovertext": [
          "0, ((-1.0, -0.362))"
         ],
         "marker": {
          "color": "blue",
          "opacity": 0.4,
          "size": 10
         },
         "mode": "markers",
         "name": "0",
         "type": "scatter",
         "x": [
          -1
         ],
         "y": [
          -0.3620689655172414
         ]
        },
        {
         "hoverinfo": "text",
         "hovertext": [
          "1, ((0.379, -0.224))"
         ],
         "marker": {
          "color": "blue",
          "opacity": 0.4,
          "size": 10
         },
         "mode": "markers",
         "name": "1",
         "type": "scatter",
         "x": [
          0.3793103448275862
         ],
         "y": [
          -0.22413793103448276
         ]
        },
        {
         "hoverinfo": "text",
         "hovertext": [
          "2, ((0.379, -0.086))"
         ],
         "marker": {
          "color": "blue",
          "opacity": 0.4,
          "size": 10
         },
         "mode": "markers",
         "name": "2",
         "type": "scatter",
         "x": [
          0.3793103448275862
         ],
         "y": [
          -0.08620689655172414
         ]
        },
        {
         "hoverinfo": "text",
         "hovertext": [
          "3, ((0.655, -0.362))"
         ],
         "marker": {
          "color": "blue",
          "opacity": 0.4,
          "size": 10
         },
         "mode": "markers",
         "name": "3",
         "type": "scatter",
         "x": [
          0.6551724137931034
         ],
         "y": [
          -0.3620689655172414
         ]
        },
        {
         "hoverinfo": "text",
         "hovertext": [
          "4, ((-0.437, 0.208))"
         ],
         "marker": {
          "color": "blue",
          "opacity": 0.4,
          "size": 10
         },
         "mode": "markers",
         "name": "4",
         "type": "scatter",
         "x": [
          -0.4374994880060456
         ],
         "y": [
          0.20832039981213785
         ]
        },
        {
         "hoverinfo": "text",
         "hovertext": [
          "5, ((-0.188, 0.439))"
         ],
         "marker": {
          "color": "blue",
          "opacity": 0.4,
          "size": 10
         },
         "mode": "markers",
         "name": "5",
         "type": "scatter",
         "x": [
          -0.1877652503477611
         ],
         "y": [
          0.43892773746193925
         ]
        },
        {
         "hoverinfo": "text",
         "hovertext": [
          "6, ((-0.034, 0.328))"
         ],
         "marker": {
          "color": "blue",
          "opacity": 0.4,
          "size": 10
         },
         "mode": "markers",
         "name": "6",
         "type": "scatter",
         "x": [
          -0.034482758620689655
         ],
         "y": [
          0.3275862068965517
         ]
        },
        {
         "hoverinfo": "text",
         "hovertext": [
          "7, ((0.241, 0.052))"
         ],
         "marker": {
          "color": "blue",
          "opacity": 0.4,
          "size": 10
         },
         "mode": "markers",
         "name": "7",
         "type": "scatter",
         "x": [
          0.24137931034482757
         ],
         "y": [
          0.05172413793103448
         ]
        },
        {
         "hoverinfo": "text",
         "hovertext": [
          "8, ((0.517, -0.224))"
         ],
         "marker": {
          "color": "blue",
          "opacity": 0.4,
          "size": 10
         },
         "mode": "markers",
         "name": "8",
         "type": "scatter",
         "x": [
          0.5172413793103448
         ],
         "y": [
          -0.22413793103448276
         ]
        },
        {
         "hoverinfo": "text",
         "hovertext": [
          "9, ((0.457, 0.543))"
         ],
         "marker": {
          "color": "blue",
          "opacity": 0.4,
          "size": 10
         },
         "mode": "markers",
         "name": "9",
         "type": "scatter",
         "x": [
          0.4570016664553428
         ],
         "y": [
          0.5432085630070669
         ]
        },
        {
         "hoverinfo": "text",
         "hovertext": [
          "10, ((-0.05, -0.969))"
         ],
         "marker": {
          "color": "blue",
          "opacity": 0.4,
          "size": 10
         },
         "mode": "markers",
         "name": "10",
         "type": "scatter",
         "x": [
          -0.05046278748348896
         ],
         "y": [
          -0.9688395322223604
         ]
        },
        {
         "hoverinfo": "text",
         "hovertext": [
          "11, ((0.94, 0.06))"
         ],
         "marker": {
          "color": "blue",
          "opacity": 0.4,
          "size": 10
         },
         "mode": "markers",
         "name": "11",
         "type": "scatter",
         "x": [
          0.9397602871449979
         ],
         "y": [
          0.06044994231741163
         ]
        },
        {
         "hoverinfo": "text",
         "hovertext": [
          "12, ((0.802, 0.198))"
         ],
         "marker": {
          "color": "blue",
          "opacity": 0.4,
          "size": 10
         },
         "mode": "markers",
         "name": "12",
         "type": "scatter",
         "x": [
          0.8018292526622394
         ],
         "y": [
          0.19838097680017025
         ]
        }
       ],
       "layout": {
        "template": {
         "data": {
          "bar": [
           {
            "error_x": {
             "color": "#2a3f5f"
            },
            "error_y": {
             "color": "#2a3f5f"
            },
            "marker": {
             "line": {
              "color": "#E5ECF6",
              "width": 0.5
             },
             "pattern": {
              "fillmode": "overlay",
              "size": 10,
              "solidity": 0.2
             }
            },
            "type": "bar"
           }
          ],
          "barpolar": [
           {
            "marker": {
             "line": {
              "color": "#E5ECF6",
              "width": 0.5
             },
             "pattern": {
              "fillmode": "overlay",
              "size": 10,
              "solidity": 0.2
             }
            },
            "type": "barpolar"
           }
          ],
          "carpet": [
           {
            "aaxis": {
             "endlinecolor": "#2a3f5f",
             "gridcolor": "white",
             "linecolor": "white",
             "minorgridcolor": "white",
             "startlinecolor": "#2a3f5f"
            },
            "baxis": {
             "endlinecolor": "#2a3f5f",
             "gridcolor": "white",
             "linecolor": "white",
             "minorgridcolor": "white",
             "startlinecolor": "#2a3f5f"
            },
            "type": "carpet"
           }
          ],
          "choropleth": [
           {
            "colorbar": {
             "outlinewidth": 0,
             "ticks": ""
            },
            "type": "choropleth"
           }
          ],
          "contour": [
           {
            "colorbar": {
             "outlinewidth": 0,
             "ticks": ""
            },
            "colorscale": [
             [
              0,
              "#0d0887"
             ],
             [
              0.1111111111111111,
              "#46039f"
             ],
             [
              0.2222222222222222,
              "#7201a8"
             ],
             [
              0.3333333333333333,
              "#9c179e"
             ],
             [
              0.4444444444444444,
              "#bd3786"
             ],
             [
              0.5555555555555556,
              "#d8576b"
             ],
             [
              0.6666666666666666,
              "#ed7953"
             ],
             [
              0.7777777777777778,
              "#fb9f3a"
             ],
             [
              0.8888888888888888,
              "#fdca26"
             ],
             [
              1,
              "#f0f921"
             ]
            ],
            "type": "contour"
           }
          ],
          "contourcarpet": [
           {
            "colorbar": {
             "outlinewidth": 0,
             "ticks": ""
            },
            "type": "contourcarpet"
           }
          ],
          "heatmap": [
           {
            "colorbar": {
             "outlinewidth": 0,
             "ticks": ""
            },
            "colorscale": [
             [
              0,
              "#0d0887"
             ],
             [
              0.1111111111111111,
              "#46039f"
             ],
             [
              0.2222222222222222,
              "#7201a8"
             ],
             [
              0.3333333333333333,
              "#9c179e"
             ],
             [
              0.4444444444444444,
              "#bd3786"
             ],
             [
              0.5555555555555556,
              "#d8576b"
             ],
             [
              0.6666666666666666,
              "#ed7953"
             ],
             [
              0.7777777777777778,
              "#fb9f3a"
             ],
             [
              0.8888888888888888,
              "#fdca26"
             ],
             [
              1,
              "#f0f921"
             ]
            ],
            "type": "heatmap"
           }
          ],
          "heatmapgl": [
           {
            "colorbar": {
             "outlinewidth": 0,
             "ticks": ""
            },
            "colorscale": [
             [
              0,
              "#0d0887"
             ],
             [
              0.1111111111111111,
              "#46039f"
             ],
             [
              0.2222222222222222,
              "#7201a8"
             ],
             [
              0.3333333333333333,
              "#9c179e"
             ],
             [
              0.4444444444444444,
              "#bd3786"
             ],
             [
              0.5555555555555556,
              "#d8576b"
             ],
             [
              0.6666666666666666,
              "#ed7953"
             ],
             [
              0.7777777777777778,
              "#fb9f3a"
             ],
             [
              0.8888888888888888,
              "#fdca26"
             ],
             [
              1,
              "#f0f921"
             ]
            ],
            "type": "heatmapgl"
           }
          ],
          "histogram": [
           {
            "marker": {
             "pattern": {
              "fillmode": "overlay",
              "size": 10,
              "solidity": 0.2
             }
            },
            "type": "histogram"
           }
          ],
          "histogram2d": [
           {
            "colorbar": {
             "outlinewidth": 0,
             "ticks": ""
            },
            "colorscale": [
             [
              0,
              "#0d0887"
             ],
             [
              0.1111111111111111,
              "#46039f"
             ],
             [
              0.2222222222222222,
              "#7201a8"
             ],
             [
              0.3333333333333333,
              "#9c179e"
             ],
             [
              0.4444444444444444,
              "#bd3786"
             ],
             [
              0.5555555555555556,
              "#d8576b"
             ],
             [
              0.6666666666666666,
              "#ed7953"
             ],
             [
              0.7777777777777778,
              "#fb9f3a"
             ],
             [
              0.8888888888888888,
              "#fdca26"
             ],
             [
              1,
              "#f0f921"
             ]
            ],
            "type": "histogram2d"
           }
          ],
          "histogram2dcontour": [
           {
            "colorbar": {
             "outlinewidth": 0,
             "ticks": ""
            },
            "colorscale": [
             [
              0,
              "#0d0887"
             ],
             [
              0.1111111111111111,
              "#46039f"
             ],
             [
              0.2222222222222222,
              "#7201a8"
             ],
             [
              0.3333333333333333,
              "#9c179e"
             ],
             [
              0.4444444444444444,
              "#bd3786"
             ],
             [
              0.5555555555555556,
              "#d8576b"
             ],
             [
              0.6666666666666666,
              "#ed7953"
             ],
             [
              0.7777777777777778,
              "#fb9f3a"
             ],
             [
              0.8888888888888888,
              "#fdca26"
             ],
             [
              1,
              "#f0f921"
             ]
            ],
            "type": "histogram2dcontour"
           }
          ],
          "mesh3d": [
           {
            "colorbar": {
             "outlinewidth": 0,
             "ticks": ""
            },
            "type": "mesh3d"
           }
          ],
          "parcoords": [
           {
            "line": {
             "colorbar": {
              "outlinewidth": 0,
              "ticks": ""
             }
            },
            "type": "parcoords"
           }
          ],
          "pie": [
           {
            "automargin": true,
            "type": "pie"
           }
          ],
          "scatter": [
           {
            "fillpattern": {
             "fillmode": "overlay",
             "size": 10,
             "solidity": 0.2
            },
            "type": "scatter"
           }
          ],
          "scatter3d": [
           {
            "line": {
             "colorbar": {
              "outlinewidth": 0,
              "ticks": ""
             }
            },
            "marker": {
             "colorbar": {
              "outlinewidth": 0,
              "ticks": ""
             }
            },
            "type": "scatter3d"
           }
          ],
          "scattercarpet": [
           {
            "marker": {
             "colorbar": {
              "outlinewidth": 0,
              "ticks": ""
             }
            },
            "type": "scattercarpet"
           }
          ],
          "scattergeo": [
           {
            "marker": {
             "colorbar": {
              "outlinewidth": 0,
              "ticks": ""
             }
            },
            "type": "scattergeo"
           }
          ],
          "scattergl": [
           {
            "marker": {
             "colorbar": {
              "outlinewidth": 0,
              "ticks": ""
             }
            },
            "type": "scattergl"
           }
          ],
          "scattermapbox": [
           {
            "marker": {
             "colorbar": {
              "outlinewidth": 0,
              "ticks": ""
             }
            },
            "type": "scattermapbox"
           }
          ],
          "scatterpolar": [
           {
            "marker": {
             "colorbar": {
              "outlinewidth": 0,
              "ticks": ""
             }
            },
            "type": "scatterpolar"
           }
          ],
          "scatterpolargl": [
           {
            "marker": {
             "colorbar": {
              "outlinewidth": 0,
              "ticks": ""
             }
            },
            "type": "scatterpolargl"
           }
          ],
          "scatterternary": [
           {
            "marker": {
             "colorbar": {
              "outlinewidth": 0,
              "ticks": ""
             }
            },
            "type": "scatterternary"
           }
          ],
          "surface": [
           {
            "colorbar": {
             "outlinewidth": 0,
             "ticks": ""
            },
            "colorscale": [
             [
              0,
              "#0d0887"
             ],
             [
              0.1111111111111111,
              "#46039f"
             ],
             [
              0.2222222222222222,
              "#7201a8"
             ],
             [
              0.3333333333333333,
              "#9c179e"
             ],
             [
              0.4444444444444444,
              "#bd3786"
             ],
             [
              0.5555555555555556,
              "#d8576b"
             ],
             [
              0.6666666666666666,
              "#ed7953"
             ],
             [
              0.7777777777777778,
              "#fb9f3a"
             ],
             [
              0.8888888888888888,
              "#fdca26"
             ],
             [
              1,
              "#f0f921"
             ]
            ],
            "type": "surface"
           }
          ],
          "table": [
           {
            "cells": {
             "fill": {
              "color": "#EBF0F8"
             },
             "line": {
              "color": "white"
             }
            },
            "header": {
             "fill": {
              "color": "#C8D4E3"
             },
             "line": {
              "color": "white"
             }
            },
            "type": "table"
           }
          ]
         },
         "layout": {
          "annotationdefaults": {
           "arrowcolor": "#2a3f5f",
           "arrowhead": 0,
           "arrowwidth": 1
          },
          "autotypenumbers": "strict",
          "coloraxis": {
           "colorbar": {
            "outlinewidth": 0,
            "ticks": ""
           }
          },
          "colorscale": {
           "diverging": [
            [
             0,
             "#8e0152"
            ],
            [
             0.1,
             "#c51b7d"
            ],
            [
             0.2,
             "#de77ae"
            ],
            [
             0.3,
             "#f1b6da"
            ],
            [
             0.4,
             "#fde0ef"
            ],
            [
             0.5,
             "#f7f7f7"
            ],
            [
             0.6,
             "#e6f5d0"
            ],
            [
             0.7,
             "#b8e186"
            ],
            [
             0.8,
             "#7fbc41"
            ],
            [
             0.9,
             "#4d9221"
            ],
            [
             1,
             "#276419"
            ]
           ],
           "sequential": [
            [
             0,
             "#0d0887"
            ],
            [
             0.1111111111111111,
             "#46039f"
            ],
            [
             0.2222222222222222,
             "#7201a8"
            ],
            [
             0.3333333333333333,
             "#9c179e"
            ],
            [
             0.4444444444444444,
             "#bd3786"
            ],
            [
             0.5555555555555556,
             "#d8576b"
            ],
            [
             0.6666666666666666,
             "#ed7953"
            ],
            [
             0.7777777777777778,
             "#fb9f3a"
            ],
            [
             0.8888888888888888,
             "#fdca26"
            ],
            [
             1,
             "#f0f921"
            ]
           ],
           "sequentialminus": [
            [
             0,
             "#0d0887"
            ],
            [
             0.1111111111111111,
             "#46039f"
            ],
            [
             0.2222222222222222,
             "#7201a8"
            ],
            [
             0.3333333333333333,
             "#9c179e"
            ],
            [
             0.4444444444444444,
             "#bd3786"
            ],
            [
             0.5555555555555556,
             "#d8576b"
            ],
            [
             0.6666666666666666,
             "#ed7953"
            ],
            [
             0.7777777777777778,
             "#fb9f3a"
            ],
            [
             0.8888888888888888,
             "#fdca26"
            ],
            [
             1,
             "#f0f921"
            ]
           ]
          },
          "colorway": [
           "#636efa",
           "#EF553B",
           "#00cc96",
           "#ab63fa",
           "#FFA15A",
           "#19d3f3",
           "#FF6692",
           "#B6E880",
           "#FF97FF",
           "#FECB52"
          ],
          "font": {
           "color": "#2a3f5f"
          },
          "geo": {
           "bgcolor": "white",
           "lakecolor": "white",
           "landcolor": "#E5ECF6",
           "showlakes": true,
           "showland": true,
           "subunitcolor": "white"
          },
          "hoverlabel": {
           "align": "left"
          },
          "hovermode": "closest",
          "mapbox": {
           "style": "light"
          },
          "paper_bgcolor": "white",
          "plot_bgcolor": "#E5ECF6",
          "polar": {
           "angularaxis": {
            "gridcolor": "white",
            "linecolor": "white",
            "ticks": ""
           },
           "bgcolor": "#E5ECF6",
           "radialaxis": {
            "gridcolor": "white",
            "linecolor": "white",
            "ticks": ""
           }
          },
          "scene": {
           "xaxis": {
            "backgroundcolor": "#E5ECF6",
            "gridcolor": "white",
            "gridwidth": 2,
            "linecolor": "white",
            "showbackground": true,
            "ticks": "",
            "zerolinecolor": "white"
           },
           "yaxis": {
            "backgroundcolor": "#E5ECF6",
            "gridcolor": "white",
            "gridwidth": 2,
            "linecolor": "white",
            "showbackground": true,
            "ticks": "",
            "zerolinecolor": "white"
           },
           "zaxis": {
            "backgroundcolor": "#E5ECF6",
            "gridcolor": "white",
            "gridwidth": 2,
            "linecolor": "white",
            "showbackground": true,
            "ticks": "",
            "zerolinecolor": "white"
           }
          },
          "shapedefaults": {
           "line": {
            "color": "#2a3f5f"
           }
          },
          "ternary": {
           "aaxis": {
            "gridcolor": "white",
            "linecolor": "white",
            "ticks": ""
           },
           "baxis": {
            "gridcolor": "white",
            "linecolor": "white",
            "ticks": ""
           },
           "bgcolor": "#E5ECF6",
           "caxis": {
            "gridcolor": "white",
            "linecolor": "white",
            "ticks": ""
           }
          },
          "title": {
           "x": 0.05
          },
          "xaxis": {
           "automargin": true,
           "gridcolor": "white",
           "linecolor": "white",
           "ticks": "",
           "title": {
            "standoff": 15
           },
           "zerolinecolor": "white",
           "zerolinewidth": 2
          },
          "yaxis": {
           "automargin": true,
           "gridcolor": "white",
           "linecolor": "white",
           "ticks": "",
           "title": {
            "standoff": 15
           },
           "zerolinecolor": "white",
           "zerolinewidth": 2
          }
         }
        }
       }
      }
     },
     "metadata": {},
     "output_type": "display_data"
    }
   ],
   "source": [
    "x,y = points_to_plot(c1)\n",
    "fig = quick_plotly_plot(x,y, \"c1\", \"lines+markers\")\n",
    "\n",
    "fig = add_geom_to_plotly(sp.LineString(c2), fig, \"c2\", \"lines+markers\" )\n",
    "\n",
    "fig = add_geom_to_plotly(shape.boundary, fig, \"shape\", \"lines+markers\" )\n",
    "\n",
    "for ix, e in enumerate(cm.extrema):\n",
    "    fig = add_geom_to_plotly(e, fig, f\"extrema_{ix}\")\n",
    "\n",
    "fig = add_embedding_to_plotly(cm.embed, fig )\n",
    "\n",
    "fig.show()\n"
   ]
  },
  {
   "cell_type": "code",
   "execution_count": 13,
   "metadata": {},
   "outputs": [
    {
     "data": {
      "text/plain": [
       "[(0.6551724137931034, -0.3620689655172414),\n",
       " (-1.0, -0.3620689655172414),\n",
       " (-0.1724137931034483, 0.46551724137931033),\n",
       " (0.6551724137931034, -0.3620689655172414)]"
      ]
     },
     "execution_count": 13,
     "metadata": {},
     "output_type": "execute_result"
    }
   ],
   "source": [
    "[c for c in shape.boundary.coords]"
   ]
  },
  {
   "cell_type": "code",
   "execution_count": 14,
   "metadata": {},
   "outputs": [
    {
     "ename": "NameError",
     "evalue": "name 'joined' is not defined",
     "output_type": "error",
     "traceback": [
      "\u001b[0;31m---------------------------------------------------------------------------\u001b[0m",
      "\u001b[0;31mNameError\u001b[0m                                 Traceback (most recent call last)",
      "Cell \u001b[0;32mIn[14], line 1\u001b[0m\n\u001b[0;32m----> 1\u001b[0m sp\u001b[38;5;241m.\u001b[39mLineString(\u001b[43mjoined\u001b[49m)\n",
      "\u001b[0;31mNameError\u001b[0m: name 'joined' is not defined"
     ]
    }
   ],
   "source": [
    "sp.LineString(joined)"
   ]
  },
  {
   "cell_type": "code",
   "execution_count": null,
   "metadata": {},
   "outputs": [
    {
     "data": {
      "image/svg+xml": [
       "<svg xmlns=\"http://www.w3.org/2000/svg\" xmlns:xlink=\"http://www.w3.org/1999/xlink\" width=\"100.0\" height=\"100.0\" viewBox=\"-1.836840439787765 -1.2049792595564772 2.014165830665573 1.8021422966094838\" preserveAspectRatio=\"xMinYMin meet\"><g transform=\"matrix(1,0,0,-1,0,-0.6078162225034707)\"><polyline fill=\"none\" stroke=\"#ff3333\" stroke-width=\"0.04028331661331146\" points=\"0.10272665640871288,0.18893730868867897 0.020594845287512133,0.14045951693838693 -0.07470311130080211,0.13671383127017864 -0.160386506315095,0.17859564725107815 -0.21597296647067166,0.2560932352032572 -0.22817470565341547,0.35068101587258876 -0.19407493261547992,0.43974804776315163 -0.12182510167505418,0.5020031087631471 -0.02869633061208874,0.5225643025839113 0.06304921119814456,0.4965165339850467 -0.4444459368776561,0.18579847438016756 -0.8028830151243025,0.39287735245841465 -1.216802654022918,0.38746132603881384 -1.569698802688463,0.17107484525694167 -1.7622417053186696,-0.195375740026904 -1.740236269187139,-0.6087455037842437 -1.5098763691931367,-0.9526831686057806 -1.1360014565450849,-1.130380525087382 -0.7238461843111897,-1.0918210596094728 -0.38941998670721056,-0.8478581133158138 0.10272665640871288,0.18893730868867897\" opacity=\"0.8\" /></g></svg>"
      ],
      "text/plain": [
       "<LINEARRING (0.103 0.189, 0.021 0.14, -0.075 0.137, -0.16 0.179, -0.216 0.25...>"
      ]
     },
     "execution_count": 6,
     "metadata": {},
     "output_type": "execute_result"
    }
   ],
   "source": [
    "joined = c1 + c2\n",
    "sp.LinearRing(joined)"
   ]
  },
  {
   "cell_type": "code",
   "execution_count": null,
   "metadata": {},
   "outputs": [],
   "source": [
    "\n",
    "\n",
    "self.guiding_circle_center: <POINT (-0.172 0.466)>"
   ]
  },
  {
   "cell_type": "code",
   "execution_count": null,
   "metadata": {},
   "outputs": [
    {
     "ename": "NameError",
     "evalue": "name 'cm' is not defined",
     "output_type": "error",
     "traceback": [
      "\u001b[0;31m---------------------------------------------------------------------------\u001b[0m",
      "\u001b[0;31mNameError\u001b[0m                                 Traceback (most recent call last)",
      "Cell \u001b[0;32mIn[2], line 1\u001b[0m\n\u001b[0;32m----> 1\u001b[0m \u001b[43mcm\u001b[49m\u001b[38;5;241m.\u001b[39membed\n",
      "\u001b[0;31mNameError\u001b[0m: name 'cm' is not defined"
     ]
    }
   ],
   "source": [
    "cm.embed"
   ]
  }
 ],
 "metadata": {
  "kernelspec": {
   "display_name": "gqenv",
   "language": "python",
   "name": "python3"
  },
  "language_info": {
   "codemirror_mode": {
    "name": "ipython",
    "version": 3
   },
   "file_extension": ".py",
   "mimetype": "text/x-python",
   "name": "python",
   "nbconvert_exporter": "python",
   "pygments_lexer": "ipython3",
   "version": "3.9.15"
  }
 },
 "nbformat": 4,
 "nbformat_minor": 2
}
